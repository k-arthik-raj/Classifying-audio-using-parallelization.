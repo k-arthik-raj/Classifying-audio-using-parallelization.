{
  "cells": [
    {
      "cell_type": "code",
      "execution_count": null,
      "metadata": {
        "_cell_guid": "b1076dfc-b9ad-4769-8c92-a6c4dae69d19",
        "_uuid": "8f2839f25d086af736a60e9eeb907d3b93b6e0e5",
        "id": "ZcoBEft660Cv"
      },
      "outputs": [],
      "source": [
        "import torch\n",
        "import torch.nn as nn\n",
        "import matplotlib.pyplot as plt\n",
        "import numpy as np\n",
        "import pandas as pd\n",
        "import os, glob\n",
        "import librosa\n",
        "import librosa.display\n",
        "import IPython\n",
        "from IPython.display import Audio\n",
        "from IPython.display import Image\n",
        "import warnings; warnings.filterwarnings('ignore') #matplot lib complains about librosa"
      ]
    },
    {
      "cell_type": "code",
      "execution_count": null,
      "metadata": {
        "id": "38YJn86i60Cz",
        "colab": {
          "base_uri": "https://localhost:8080/"
        },
        "outputId": "ce8473f4-ce49-4493-91d2-da462da4b0f3"
      },
      "outputs": [
        {
          "output_type": "stream",
          "name": "stdout",
          "text": [
            "Looking in indexes: https://pypi.org/simple, https://us-python.pkg.dev/colab-wheels/public/simple/\n",
            "Requirement already satisfied: librosa in /usr/local/lib/python3.7/dist-packages (0.9.2)\n",
            "Requirement already satisfied: soundfile>=0.10.2 in /usr/local/lib/python3.7/dist-packages (from librosa) (0.11.0)\n",
            "Requirement already satisfied: scikit-learn>=0.19.1 in /usr/local/lib/python3.7/dist-packages (from librosa) (1.0.2)\n",
            "Requirement already satisfied: scipy>=1.2.0 in /usr/local/lib/python3.7/dist-packages (from librosa) (1.7.3)\n",
            "Requirement already satisfied: joblib>=0.14 in /usr/local/lib/python3.7/dist-packages (from librosa) (1.2.0)\n",
            "Requirement already satisfied: decorator>=4.0.10 in /usr/local/lib/python3.7/dist-packages (from librosa) (4.4.2)\n",
            "Requirement already satisfied: packaging>=20.0 in /usr/local/lib/python3.7/dist-packages (from librosa) (21.3)\n",
            "Requirement already satisfied: numba>=0.45.1 in /usr/local/lib/python3.7/dist-packages (from librosa) (0.56.4)\n",
            "Requirement already satisfied: resampy>=0.2.2 in /usr/local/lib/python3.7/dist-packages (from librosa) (0.4.2)\n",
            "Requirement already satisfied: numpy>=1.17.0 in /usr/local/lib/python3.7/dist-packages (from librosa) (1.21.6)\n",
            "Requirement already satisfied: audioread>=2.1.9 in /usr/local/lib/python3.7/dist-packages (from librosa) (3.0.0)\n",
            "Requirement already satisfied: pooch>=1.0 in /usr/local/lib/python3.7/dist-packages (from librosa) (1.6.0)\n",
            "Requirement already satisfied: importlib-metadata in /usr/local/lib/python3.7/dist-packages (from numba>=0.45.1->librosa) (4.13.0)\n",
            "Requirement already satisfied: llvmlite<0.40,>=0.39.0dev0 in /usr/local/lib/python3.7/dist-packages (from numba>=0.45.1->librosa) (0.39.1)\n",
            "Requirement already satisfied: setuptools in /usr/local/lib/python3.7/dist-packages (from numba>=0.45.1->librosa) (57.4.0)\n",
            "Requirement already satisfied: pyparsing!=3.0.5,>=2.0.2 in /usr/local/lib/python3.7/dist-packages (from packaging>=20.0->librosa) (3.0.9)\n",
            "Requirement already satisfied: requests>=2.19.0 in /usr/local/lib/python3.7/dist-packages (from pooch>=1.0->librosa) (2.23.0)\n",
            "Requirement already satisfied: appdirs>=1.3.0 in /usr/local/lib/python3.7/dist-packages (from pooch>=1.0->librosa) (1.4.4)\n",
            "Requirement already satisfied: urllib3!=1.25.0,!=1.25.1,<1.26,>=1.21.1 in /usr/local/lib/python3.7/dist-packages (from requests>=2.19.0->pooch>=1.0->librosa) (1.24.3)\n",
            "Requirement already satisfied: idna<3,>=2.5 in /usr/local/lib/python3.7/dist-packages (from requests>=2.19.0->pooch>=1.0->librosa) (2.10)\n",
            "Requirement already satisfied: chardet<4,>=3.0.2 in /usr/local/lib/python3.7/dist-packages (from requests>=2.19.0->pooch>=1.0->librosa) (3.0.4)\n",
            "Requirement already satisfied: certifi>=2017.4.17 in /usr/local/lib/python3.7/dist-packages (from requests>=2.19.0->pooch>=1.0->librosa) (2022.9.24)\n",
            "Requirement already satisfied: threadpoolctl>=2.0.0 in /usr/local/lib/python3.7/dist-packages (from scikit-learn>=0.19.1->librosa) (3.1.0)\n",
            "Requirement already satisfied: cffi>=1.0 in /usr/local/lib/python3.7/dist-packages (from soundfile>=0.10.2->librosa) (1.15.1)\n",
            "Requirement already satisfied: pycparser in /usr/local/lib/python3.7/dist-packages (from cffi>=1.0->soundfile>=0.10.2->librosa) (2.21)\n",
            "Requirement already satisfied: zipp>=0.5 in /usr/local/lib/python3.7/dist-packages (from importlib-metadata->numba>=0.45.1->librosa) (3.10.0)\n",
            "Requirement already satisfied: typing-extensions>=3.6.4 in /usr/local/lib/python3.7/dist-packages (from importlib-metadata->numba>=0.45.1->librosa) (4.1.1)\n"
          ]
        }
      ],
      "source": [
        "#google colab has an old version of librosa with missing mel spectrogram args (for MFCC); upgrade to current\n",
        "!pip install -U librosa "
      ]
    },
    {
      "cell_type": "code",
      "execution_count": null,
      "metadata": {
        "colab": {
          "base_uri": "https://localhost:8080/"
        },
        "id": "wXgX4hsZ60C1",
        "outputId": "f785526f-ae1f-4d7c-9660-2556feddd2e8"
      },
      "outputs": [
        {
          "output_type": "stream",
          "name": "stdout",
          "text": [
            "Mounted at /content/gdrive\n"
          ]
        }
      ],
      "source": [
        "# needed to import dataset from google drive into colab \n",
        "from google.colab import drive\n",
        "drive.mount(\"/content/gdrive\")"
      ]
    },
    {
      "cell_type": "code",
      "execution_count": null,
      "metadata": {
        "id": "T8GiBMh2CJCR"
      },
      "outputs": [],
      "source": [
        "# copy RAVDESS dataset from gdrive and unzip\n",
        "!cp '/content/gdrive/MyDrive/machine learning datasets/ravdess.zip' .\n",
        "!unzip -q ravdess.zip "
      ]
    },
    {
      "cell_type": "code",
      "source": [
        "import zipfile\n",
        "with zipfile.ZipFile('/content/gdrive/MyDrive/machine learning datasets/ravdess.zip', 'r') as zip_ref:\n",
        "    zip_ref.extractall(path='./data')"
      ],
      "metadata": {
        "id": "B_ijPZAqkGgE"
      },
      "execution_count": null,
      "outputs": []
    },
    {
      "cell_type": "code",
      "execution_count": null,
      "metadata": {
        "id": "OBZMdi7l60C4"
      },
      "outputs": [],
      "source": [
        "# RAVDESS native sample rate is 48k\n",
        "sample_rate = 48000\n",
        "\n",
        "\n",
        "def feature_mfcc(\n",
        "    waveform, \n",
        "    sample_rate,\n",
        "    n_mfcc = 40,\n",
        "    fft = 1024,\n",
        "    winlen = 512,\n",
        "    window='hamming',\n",
        "    mels=128\n",
        "    ):\n",
        "\n",
        "\n",
        "    mfc_coefficients=librosa.feature.mfcc(\n",
        "        y=waveform, \n",
        "        sr=sample_rate, \n",
        "        n_mfcc=n_mfcc,\n",
        "        n_fft=fft, \n",
        "        win_length=winlen, \n",
        "        window=window, \n",
        "        #hop_length=hop, \n",
        "        n_mels=mels, \n",
        "        fmax=sample_rate/2\n",
        "        ) \n",
        "\n",
        "    return mfc_coefficients\n",
        "\n",
        "def get_features(waveforms, features, samplerate):\n",
        "\n",
        "\n",
        "    file_count = 0\n",
        "    for waveform in waveforms:\n",
        "        mfccs = feature_mfcc(waveform, sample_rate)\n",
        "        features.append(mfccs)\n",
        "        file_count += 1\n",
        "        # print progress \n",
        "        print('\\r'+f' Processed {file_count}/{len(waveforms)} waveforms',end='')\n",
        "    return features\n",
        "\n",
        "def get_waveforms(file):\n",
        "    \n",
        "    waveform, _ = librosa.load(file, duration=3, offset=0.5, sr=sample_rate)\n",
        "    waveform_homo = np.zeros((int(sample_rate*3,)))\n",
        "    waveform_homo[:len(waveform)] = waveform                                 \n",
        "    return waveform_homo\n",
        "    \n",
        "\n",
        "emotions_dict ={\n",
        "    '0':'surprised',\n",
        "    '1':'neutral',\n",
        "    '2':'calm',\n",
        "    '3':'happy',\n",
        "    '4':'sad',\n",
        "    '5':'angry',\n",
        "    '6':'fearful',\n",
        "    '7':'disgust'\n",
        "}\n",
        "\n",
        "\n",
        "emotion_attributes = {\n",
        "    '01': 'normal',\n",
        "    '02': 'strong'\n",
        "}"
      ]
    },
    {
      "cell_type": "markdown",
      "metadata": {
        "id": "VoHM-Dh860C6"
      },
      "source": [
        "## Load Data and Extract Features\n",
        "\n"
      ]
    },
    {
      "cell_type": "code",
      "execution_count": null,
      "metadata": {
        "id": "XasJEOjN60C7"
      },
      "outputs": [],
      "source": [
        "\n",
        "data_path = './Actor_*/*.wav'\n",
        "\n",
        "def load_data():\n",
        "    \n",
        "    emotions = []\n",
        "    waveforms = []\n",
        "    intensities, genders = [],[]\n",
        "    # progress counter\n",
        "    file_count = 0\n",
        "    for file in glob.glob(data_path):\n",
        "        # get file name with labels\n",
        "        file_name = os.path.basename(file)\n",
        "        \n",
        "        # get emotion label from the sample's file\n",
        "        emotion = int(file_name.split(\"-\")[2])\n",
        "\n",
        "        #  move surprise to 0 for cleaner behaviour with PyTorch/0-indexing\n",
        "        if emotion == 8: emotion = 0 \n",
        "\n",
        "        # can convert emotion label to emotion string if desired, but\n",
        "        \n",
        "        # get other labels we might want\n",
        "        intensity = emotion_attributes[file_name.split(\"-\")[3]]\n",
        "        # even actors are female, odd are male\n",
        "        if (int((file_name.split(\"-\")[6]).split(\".\")[0]))%2==0: \n",
        "            gender = 'female' \n",
        "        else: \n",
        "            gender = 'male'\n",
        "            \n",
        "        # get waveform from the sample\n",
        "        waveform = get_waveforms(file)\n",
        "        \n",
        "        # store waveforms and labels\n",
        "        waveforms.append(waveform)\n",
        "        emotions.append(emotion)\n",
        "        intensities.append(intensity) \n",
        "        genders.append(gender) \n",
        "        \n",
        "        file_count += 1\n",
        "        # keep track of data loader's progress\n",
        "        print('\\r'+f' Processed {file_count}/{1440} audio samples',end='')\n",
        "        \n",
        "    return waveforms, emotions, intensities, genders"
      ]
    },
    {
      "cell_type": "code",
      "execution_count": null,
      "metadata": {
        "colab": {
          "base_uri": "https://localhost:8080/"
        },
        "id": "37LrPb2i60C9",
        "outputId": "30af5814-de86-411a-c4b2-cce65b516380"
      },
      "outputs": [
        {
          "output_type": "stream",
          "name": "stdout",
          "text": [
            " Processed 1440/1440 audio samples"
          ]
        }
      ],
      "source": [
        "# load data \n",
        "waveforms, emotions, intensities, genders = [],[],[],[]\n",
        "waveforms, emotions, intensities, genders = load_data()"
      ]
    },
    {
      "cell_type": "markdown",
      "metadata": {
        "id": "PLBp0B-n60DB"
      },
      "source": [
        "## Check extracted audio waveforms and labels:\n"
      ]
    },
    {
      "cell_type": "code",
      "execution_count": null,
      "metadata": {
        "colab": {
          "base_uri": "https://localhost:8080/"
        },
        "id": "pjjUpfNm60DC",
        "outputId": "1a69425f-438f-4cd5-9740-92be0d52f7e0"
      },
      "outputs": [
        {
          "output_type": "stream",
          "name": "stdout",
          "text": [
            "Waveforms set: 1440 samples\n",
            "Waveform signal length: 144000\n",
            "Emotions set: 1440 sample labels\n"
          ]
        }
      ],
      "source": [
        "print(f'Waveforms set: {len(waveforms)} samples')\n",
        "# we have 1440 waveforms but we need to know their length too; should be 3 sec * 48k = 144k\n",
        "print(f'Waveform signal length: {len(waveforms[0])}')\n",
        "print(f'Emotions set: {len(emotions)} sample labels')"
      ]
    },
    {
      "cell_type": "code",
      "execution_count": null,
      "metadata": {
        "colab": {
          "base_uri": "https://localhost:8080/"
        },
        "id": "ofaAetu48YEg",
        "outputId": "d24f18f0-28f5-418a-cc10-d1df951c6a72"
      },
      "outputs": [
        {
          "output_type": "stream",
          "name": "stdout",
          "text": [
            "Training waveforms:(1147, 144000), y_train:(1147,)\n",
            "Validation waveforms:(143, 144000), y_valid:(143,)\n",
            "Test waveforms:(150, 144000), y_test:(150,)\n",
            "\n",
            "Sets are unique: 1440 samples out of 1440 are unique\n"
          ]
        }
      ],
      "source": [
        "# create storage for train, validation, test sets and their indices\n",
        "train_set,valid_set,test_set = [],[],[]\n",
        "X_train,X_valid,X_test = [],[],[]\n",
        "y_train,y_valid,y_test = [],[],[]\n",
        "\n",
        "# convert waveforms to array for processing\n",
        "waveforms = np.array(waveforms)\n",
        "\n",
        "# process each emotion separately to make sure we builf balanced train/valid/test sets \n",
        "for emotion_num in range(len(emotions_dict)):\n",
        "        \n",
        "    # find all indices of a single unique emotion\n",
        "    emotion_indices = [index for index, emotion in enumerate(emotions) if emotion==emotion_num]\n",
        "\n",
        "    # seed for reproducibility \n",
        "    np.random.seed(69)\n",
        "    # shuffle indicies \n",
        "    emotion_indices = np.random.permutation(emotion_indices)\n",
        "\n",
        "    # store dim (length) of the emotion list to make indices\n",
        "    dim = len(emotion_indices)\n",
        "\n",
        "    # store indices of training, validation and test sets in 80/10/10 proportion\n",
        "    # train set is first 80%\n",
        "    train_indices = emotion_indices[:int(0.8*dim)]\n",
        "    # validation set is next 10% (between 80% and 90%)\n",
        "    valid_indices = emotion_indices[int(0.8*dim):int(0.9*dim)]\n",
        "    # test set is last 10% (between 90% - end/100%)\n",
        "    test_indices = emotion_indices[int(0.9*dim):]\n",
        "\n",
        "    # create train waveforms/labels sets\n",
        "    X_train.append(waveforms[train_indices,:])\n",
        "    y_train.append(np.array([emotion_num]*len(train_indices),dtype=np.int32))\n",
        "    # create validation waveforms/labels sets\n",
        "    X_valid.append(waveforms[valid_indices,:])\n",
        "    y_valid.append(np.array([emotion_num]*len(valid_indices),dtype=np.int32))\n",
        "    # create test waveforms/labels sets\n",
        "    X_test.append(waveforms[test_indices,:])\n",
        "    y_test.append(np.array([emotion_num]*len(test_indices),dtype=np.int32))\n",
        "\n",
        "    # store indices for each emotion set to verify uniqueness between sets \n",
        "    train_set.append(train_indices)\n",
        "    valid_set.append(valid_indices)\n",
        "    test_set.append(test_indices)\n",
        "\n",
        "# concatenate, in order, all waveforms back into one array \n",
        "X_train = np.concatenate(X_train,axis=0)\n",
        "X_valid = np.concatenate(X_valid,axis=0)\n",
        "X_test = np.concatenate(X_test,axis=0)\n",
        "\n",
        "# concatenate, in order, all emotions back into one array \n",
        "y_train = np.concatenate(y_train,axis=0)\n",
        "y_valid = np.concatenate(y_valid,axis=0)\n",
        "y_test = np.concatenate(y_test,axis=0)\n",
        "\n",
        "# combine and store indices for all emotions' train, validation, test sets to verify uniqueness of sets\n",
        "train_set = np.concatenate(train_set,axis=0)\n",
        "valid_set = np.concatenate(valid_set,axis=0)\n",
        "test_set = np.concatenate(test_set,axis=0)\n",
        "\n",
        "# check shape of each set\n",
        "print(f'Training waveforms:{X_train.shape}, y_train:{y_train.shape}')\n",
        "print(f'Validation waveforms:{X_valid.shape}, y_valid:{y_valid.shape}')\n",
        "print(f'Test waveforms:{X_test.shape}, y_test:{y_test.shape}')\n",
        "\n",
        "# make sure train, validation, test sets have no overlap/are unique\n",
        "uniques, count = np.unique(np.concatenate([train_set,test_set,valid_set],axis=0), return_counts=True)\n",
        "\n",
        "# if each index appears just once, and we have 1440 such unique indices, then all sets are unique\n",
        "if sum(count==1) == len(emotions):\n",
        "    print(f'\\nSets are unique: {sum(count==1)} samples out of {len(emotions)} are unique')\n",
        "else:\n",
        "    print(f'\\nSets are NOT unique: {sum(count==1)} samples out of {len(emotions)} are unique')    "
      ]
    },
    {
      "cell_type": "markdown",
      "metadata": {
        "id": "kikSzy0MCFix"
      },
      "source": [
        "## Extract Features \n"
      ]
    },
    {
      "cell_type": "code",
      "execution_count": null,
      "metadata": {
        "colab": {
          "base_uri": "https://localhost:8080/"
        },
        "id": "OI4y4gFgCED3",
        "outputId": "cfe1ffa2-8354-4f2a-9e89-720e5fd7aefb"
      },
      "outputs": [
        {
          "output_type": "stream",
          "name": "stdout",
          "text": [
            "Train waveforms:\n",
            " Processed 1147/1147 waveforms\n",
            "\n",
            "Validation waveforms:\n",
            " Processed 143/143 waveforms\n",
            "\n",
            "Test waveforms:\n",
            " Processed 150/150 waveforms\n",
            "\n",
            "Features set: 1440 total, 1147 train, 143 validation, 150 test samples\n",
            "Features (MFC coefficient matrix) shape: 40 mel frequency coefficients x 282 time steps\n"
          ]
        }
      ],
      "source": [
        "# initialize feature arrays\n",
        "features_train, features_valid, features_test = [],[],[]\n",
        "\n",
        "print('Train waveforms:') # get training set features \n",
        "features_train = get_features(X_train, features_train, sample_rate)\n",
        "\n",
        "print('\\n\\nValidation waveforms:') # get validation set features\n",
        "features_valid = get_features(X_valid, features_valid, sample_rate)\n",
        "\n",
        "print('\\n\\nTest waveforms:') # get test set features \n",
        "features_test = get_features(X_test, features_test, sample_rate)\n",
        "\n",
        "print(f'\\n\\nFeatures set: {len(features_train)+len(features_test)+len(features_valid)} total, {len(features_train)} train, {len(features_valid)} validation, {len(features_test)} test samples')\n",
        "print(f'Features (MFC coefficient matrix) shape: {len(features_train[0])} mel frequency coefficients x {len(features_train[0][1])} time steps')"
      ]
    },
    {
      "cell_type": "markdown",
      "metadata": {
        "id": "mx3PipOL60DG"
      },
      "source": [
        "## Augmenting the Data with AWGN - Additive White Gaussian Noise"
      ]
    },
    {
      "cell_type": "code",
      "execution_count": null,
      "metadata": {
        "id": "T6iY69E-60DG"
      },
      "outputs": [],
      "source": [
        "def awgn_augmentation(waveform, multiples=2, bits=16, snr_min=15, snr_max=30): \n",
        "    \n",
        "    # get length of waveform (should be 3*48k = 144k)\n",
        "    wave_len = len(waveform)\n",
        "    \n",
        "    # Generate normally distributed (Gaussian) noises\n",
        "    noise = np.random.normal(size=(multiples, wave_len))\n",
        "    \n",
        "    # Normalize waveform and noise\n",
        "    norm_constant = 2.0**(bits-1)\n",
        "    norm_wave = waveform / norm_constant\n",
        "    norm_noise = noise / norm_constant\n",
        "    \n",
        "    # Compute power of waveform and power of noise\n",
        "    signal_power = np.sum(norm_wave ** 2) / wave_len\n",
        "    noise_power = np.sum(norm_noise ** 2, axis=1) / wave_len\n",
        "    \n",
        "    # Choose random SNR in decibels in range [15,30]\n",
        "    snr = np.random.randint(snr_min, snr_max)\n",
        "    \n",
        "   \n",
        "    covariance = np.sqrt((signal_power / noise_power) * 10 ** (- snr / 10))\n",
        " \n",
        "    covariance = np.ones((wave_len, multiples)) * covariance\n",
        "\n",
        "    multiple_augmented_waveforms = waveform + covariance.T * noise\n",
        "    \n",
        "    return multiple_augmented_waveforms"
      ]
    },
    {
      "cell_type": "code",
      "execution_count": null,
      "metadata": {
        "id": "tx-eNKa060DJ"
      },
      "outputs": [],
      "source": [
        "def augment_waveforms(waveforms, features, emotions, multiples):\n",
        "    emotion_count = 0\n",
        "    added_count = 0\n",
        "    emotions = emotions.tolist()\n",
        "\n",
        "    for waveform in waveforms:\n",
        "\n",
        "        # Generate 2 augmented multiples of the dataset\n",
        "        augmented_waveforms = awgn_augmentation(waveform, multiples=multiples)\n",
        "\n",
        "      \n",
        "        for augmented_waveform in augmented_waveforms:\n",
        "\n",
        "            # find MFCCs over augmented waveforms\n",
        "            augmented_mfcc = feature_mfcc(augmented_waveform, sample_rate=sample_rate)\n",
        "\n",
        "            # append the augmented spectrogram \n",
        "            features.append(augmented_mfcc)\n",
        "            emotions.append(emotions[emotion_count])\n",
        "\n",
        "            # count of new augmented samples\n",
        "            added_count += 1\n",
        "\n",
        "            # check progress\n",
        "            print('\\r'+f'Processed {emotion_count + 1}/{len(waveforms)} waveforms for {added_count}/{len(waveforms)*multiples} new augmented samples',end='')\n",
        "\n",
        "        emotion_count += 1\n",
        "        augmented_waveforms_temp.append(augmented_waveforms)\n",
        "    \n",
        "    return features, emotions"
      ]
    },
    {
      "cell_type": "markdown",
      "metadata": {
        "id": "4GZ2CAy3F-nK"
      },
      "source": [
        "### Compute AWGN-augmented features and add to the rest of the dataset\n",
        "\n"
      ]
    },
    {
      "cell_type": "code",
      "execution_count": null,
      "metadata": {
        "colab": {
          "base_uri": "https://localhost:8080/"
        },
        "id": "05bOxnra54ia",
        "outputId": "43439d9d-93a9-4a14-b60a-37325c5ee1a6"
      },
      "outputs": [
        {
          "output_type": "stream",
          "name": "stdout",
          "text": [
            "Train waveforms:\n",
            "Processed 1147/1147 waveforms for 2294/2294 new augmented samples\n",
            "\n",
            "Validation waveforms:\n",
            "Processed 143/143 waveforms for 286/286 new augmented samples\n",
            "\n",
            "Test waveforms:\n",
            "Processed 150/150 waveforms for 300/300 new augmented samples\n",
            "\n",
            "Native + Augmented Features set: 4320 total, 3441 train, 429 validation, 450 test samples\n",
            "3441 training sample labels, 429 validation sample labels, 450 test sample labels\n",
            "Features (MFCC matrix) shape: 40 mel frequency coefficients x 282 time steps\n"
          ]
        }
      ],
      "source": [
        "# store augmented waveforms to verify their shape and random-ness\n",
        "augmented_waveforms_temp = []\n",
        "\n",
        "# specify multiples of our dataset to add as augmented data\n",
        "multiples = 2\n",
        "\n",
        "print('Train waveforms:') # augment waveforms of training set\n",
        "features_train , y_train = augment_waveforms(X_train, features_train, y_train, multiples)\n",
        "\n",
        "print('\\n\\nValidation waveforms:') # augment waveforms of validation set\n",
        "features_valid, y_valid = augment_waveforms(X_valid, features_valid, y_valid, multiples)\n",
        "\n",
        "print('\\n\\nTest waveforms:') # augment waveforms of test set \n",
        "features_test, y_test = augment_waveforms(X_test, features_test, y_test, multiples)\n",
        "\n",
        "# Check new shape of extracted features and data:\n",
        "print(f'\\n\\nNative + Augmented Features set: {len(features_train)+len(features_test)+len(features_valid)} total, {len(features_train)} train, {len(features_valid)} validation, {len(features_test)} test samples')\n",
        "print(f'{len(y_train)} training sample labels, {len(y_valid)} validation sample labels, {len(y_test)} test sample labels')\n",
        "print(f'Features (MFCC matrix) shape: {len(features_train[0])} mel frequency coefficients x {len(features_train[0][1])} time steps')"
      ]
    },
    {
      "cell_type": "markdown",
      "metadata": {
        "id": "pG6UTrZ160DO"
      },
      "source": [
        "### Check Augmented Waveforms:"
      ]
    },
    {
      "cell_type": "code",
      "execution_count": null,
      "metadata": {
        "colab": {
          "base_uri": "https://localhost:8080/",
          "height": 573
        },
        "id": "co938icT60DP",
        "outputId": "c674ed53-6cb6-4cf6-8281-b7801a5367df"
      },
      "outputs": [
        {
          "output_type": "display_data",
          "data": {
            "text/plain": [
              "<Figure size 1080x288 with 2 Axes>"
            ],
            "image/png": "[encoded data removed]"
          },
          "metadata": {
            "needs_background": "light"
          }
        },
        {
          "output_type": "display_data",
          "data": {
            "text/plain": [
              "<Figure size 1080x288 with 2 Axes>"
            ],
            "image/png": "[encoded data removed]"
          },
          "metadata": {
            "needs_background": "light"
          }
        }
      ],
      "source": [
        "# pick a random waveform, but same one from native and augmented set for easier comparison\n",
        "plt.figure(figsize=(15,4))\n",
        "plt.subplot(1, 2, 1)\n",
        "librosa.display.waveshow(waveforms[12], sr=sample_rate)\n",
        "plt.title('Native')\n",
        "\n",
        "plt.subplot(1, 2, 2)\n",
        "# augmented waveforms are 2D len 1440 list with 2 waveforms in each position\n",
        "librosa.display.waveshow(augmented_waveforms_temp[0][0], sr=sample_rate)\n",
        "plt.title('AWGN Augmented')\n",
        "plt.show()\n",
        "\n",
        "plt.figure(figsize=(15,4))\n",
        "plt.subplot(1, 2, 1)\n",
        "librosa.display.waveshow(augmented_waveforms_temp[2][0], sr=sample_rate)\n",
        "plt.title('AWGN Augmented')\n",
        "\n",
        "plt.subplot(1, 2, 2)\n",
        "librosa.display.waveshow(augmented_waveforms_temp[7][0], sr=sample_rate)\n",
        "plt.title('AWGN Augmented')\n",
        "plt.show()"
      ]
    },
    {
      "cell_type": "markdown",
      "metadata": {
        "id": "Z-GOeKiP60DV"
      },
      "source": [
        "\n",
        "\n",
        "## Format Data into Tensor Ready 4D Arrays\n"
      ]
    },
    {
      "cell_type": "code",
      "execution_count": null,
      "metadata": {
        "colab": {
          "base_uri": "https://localhost:8080/"
        },
        "id": "PQCm9rLx60DW",
        "outputId": "4fbcce79-21c8-4b6a-c83d-b88f467f4203"
      },
      "outputs": [
        {
          "output_type": "stream",
          "name": "stdout",
          "text": [
            "Shape of 4D feature array for input tensor: (3441, 1, 40, 282) train, (429, 1, 40, 282) validation, (450, 1, 40, 282) test\n",
            "Shape of emotion labels: (3441,) train, (429,) validation, (450,) test\n"
          ]
        }
      ],
      "source": [
        "X_train = np.expand_dims(features_train,1)\n",
        "X_valid = np.expand_dims(features_valid, 1)\n",
        "X_test = np.expand_dims(features_test,1)\n",
        "\n",
        "\n",
        "y_train = np.array(y_train)\n",
        "y_valid = np.array(y_valid)\n",
        "y_test = np.array(y_test)\n",
        "\n",
        "\n",
        "print(f'Shape of 4D feature array for input tensor: {X_train.shape} train, {X_valid.shape} validation, {X_test.shape} test')\n",
        "print(f'Shape of emotion labels: {y_train.shape} train, {y_valid.shape} validation, {y_test.shape} test')"
      ]
    },
    {
      "cell_type": "code",
      "execution_count": null,
      "metadata": {
        "id": "3mHDd2jiB9o6"
      },
      "outputs": [],
      "source": [
        "# free up some RAM - no longer need full feature set or any waveforms \n",
        "del features_train, features_valid, features_test, waveforms, augmented_waveforms_temp"
      ]
    },
    {
      "cell_type": "markdown",
      "metadata": {
        "id": "0Mr8NcUd60Dd"
      },
      "source": [
        "## Feature Scaling\n",
        "\n"
      ]
    },
    {
      "cell_type": "code",
      "execution_count": null,
      "metadata": {
        "colab": {
          "base_uri": "https://localhost:8080/"
        },
        "id": "tlOPCDUx60De",
        "outputId": "ffcba972-b979-46e3-9ddb-133f02880a18"
      },
      "outputs": [
        {
          "output_type": "stream",
          "name": "stdout",
          "text": [
            "X_train scaled:(3441, 1, 40, 282), y_train:(3441,)\n",
            "X_valid scaled:(429, 1, 40, 282), y_valid:(429,)\n",
            "X_test scaled:(450, 1, 40, 282), y_test:(450,)\n"
          ]
        }
      ],
      "source": [
        "from sklearn.preprocessing import StandardScaler\n",
        "\n",
        "scaler = StandardScaler()\n",
        " \n",
        "N,C,H,W = X_train.shape\n",
        "\n",
        "X_train = np.reshape(X_train, (N,-1)) \n",
        "X_train = scaler.fit_transform(X_train)\n",
        "\n",
        "X_train = np.reshape(X_train, (N,C,H,W))\n",
        "\n",
        "\n",
        "N,C,H,W = X_valid.shape\n",
        "X_valid = np.reshape(X_valid, (N,-1))\n",
        "X_valid = scaler.transform(X_valid)\n",
        "X_valid = np.reshape(X_valid, (N,C,H,W))\n",
        "\n",
        "\n",
        "N,C,H,W = X_test.shape\n",
        "X_test = np.reshape(X_test, (N,-1))\n",
        "X_test = scaler.transform(X_test)\n",
        "X_test = np.reshape(X_test, (N,C,H,W))\n",
        "\n",
        "# check shape of each set again\n",
        "print(f'X_train scaled:{X_train.shape}, y_train:{y_train.shape}')\n",
        "print(f'X_valid scaled:{X_valid.shape}, y_valid:{y_valid.shape}')\n",
        "print(f'X_test scaled:{X_test.shape}, y_test:{y_test.shape}')"
      ]
    },
    {
      "cell_type": "markdown",
      "metadata": {
        "id": "zvZh_Cuv7zAb"
      },
      "source": [
        "##Reload Data as NumPy Arrays \n"
      ]
    },
    {
      "cell_type": "code",
      "execution_count": null,
      "metadata": {
        "colab": {
          "base_uri": "https://localhost:8080/"
        },
        "id": "yx4vK5ssRIzH",
        "outputId": "b69c3507-a04b-49dd-eed5-6c72545ada76"
      },
      "outputs": [
        {
          "output_type": "stream",
          "name": "stdout",
          "text": [
            "Features and labels saved to features+labels.npy\n"
          ]
        }
      ],
      "source": [
        "\n",
        "filename = 'features+labels.npy'\n",
        "\n",
        "# open file in write mode and write data\n",
        "with open(filename, 'wb') as f:\n",
        "    np.save(f, X_train)\n",
        "    np.save(f, X_valid)\n",
        "    np.save(f, X_test)\n",
        "    np.save(f, y_train)\n",
        "    np.save(f, y_valid)\n",
        "    np.save(f, y_test)\n",
        "\n",
        "print(f'Features and labels saved to {filename}')"
      ]
    },
    {
      "cell_type": "code",
      "execution_count": null,
      "metadata": {
        "colab": {
          "base_uri": "https://localhost:8080/"
        },
        "id": "bj46pQstRKlI",
        "outputId": "642477e6-ca25-4304-dbb3-1018aa96a765"
      },
      "outputs": [
        {
          "output_type": "stream",
          "name": "stdout",
          "text": [
            "X_train:(3441, 1, 40, 282), y_train:(3441,)\n",
            "X_valid:(429, 1, 40, 282), y_valid:(429,)\n",
            "X_test:(450, 1, 40, 282), y_test:(450,)\n"
          ]
        }
      ],
      "source": [
        "\n",
        "filename = 'features+labels.npy'\n",
        "\n",
        "# open file in read mode and read data \n",
        "with open(filename, 'rb') as f:\n",
        "    X_train = np.load(f)\n",
        "    X_valid = np.load(f)\n",
        "    X_test = np.load(f)\n",
        "    y_train = np.load(f)\n",
        "    y_valid = np.load(f)\n",
        "    y_test = np.load(f)\n",
        "\n",
        "# Check that we've recovered the right data\n",
        "print(f'X_train:{X_train.shape}, y_train:{y_train.shape}')\n",
        "print(f'X_valid:{X_valid.shape}, y_valid:{y_valid.shape}')\n",
        "print(f'X_test:{X_test.shape}, y_test:{y_test.shape}') "
      ]
    },
    {
      "cell_type": "markdown",
      "metadata": {
        "id": "aYjV10O460Dg"
      },
      "source": [
        "# Architecture Overview\n",
        "<img src=\"https://github.com/IliaZenkov/transformer-cnn-emotion-recognition/blob/main/notebooks/reports/cnn-transformer-final.png?raw=1\">\n"
      ]
    },
    {
      "cell_type": "markdown",
      "metadata": {
        "id": "8ZaPs9Zm60Dg"
      },
      "source": [
        "# Build Model Architectures"
      ]
    },
    {
      "cell_type": "code",
      "source": [
        "!pip install pathos"
      ],
      "metadata": {
        "colab": {
          "base_uri": "https://localhost:8080/"
        },
        "id": "9yn4Ih2ernpn",
        "outputId": "dd66f258-c566-496a-f916-d8ef94239599"
      },
      "execution_count": null,
      "outputs": [
        {
          "output_type": "stream",
          "name": "stdout",
          "text": [
            "Looking in indexes: https://pypi.org/simple, https://us-python.pkg.dev/colab-wheels/public/simple/\n",
            "Collecting pathos\n",
            "  Downloading pathos-0.3.0-py3-none-any.whl (79 kB)\n",
            "\u001b[K     |████████████████████████████████| 79 kB 6.8 MB/s \n",
            "\u001b[?25hCollecting ppft>=1.7.6.6\n",
            "  Downloading ppft-1.7.6.6-py3-none-any.whl (52 kB)\n",
            "\u001b[K     |████████████████████████████████| 52 kB 1.7 MB/s \n",
            "\u001b[?25hRequirement already satisfied: dill>=0.3.6 in /usr/local/lib/python3.7/dist-packages (from pathos) (0.3.6)\n",
            "Collecting pox>=0.3.2\n",
            "  Downloading pox-0.3.2-py3-none-any.whl (29 kB)\n",
            "Collecting multiprocess>=0.70.14\n",
            "  Downloading multiprocess-0.70.14-py37-none-any.whl (115 kB)\n",
            "\u001b[K     |████████████████████████████████| 115 kB 33.8 MB/s \n",
            "\u001b[?25hInstalling collected packages: ppft, pox, multiprocess, pathos\n",
            "Successfully installed multiprocess-0.70.14 pathos-0.3.0 pox-0.3.2 ppft-1.7.6.6\n"
          ]
        }
      ]
    },
    {
      "cell_type": "code",
      "source": [
        "from concurrent.futures import ProcessPoolExecutor\n",
        "from concurrent.futures import as_completed\n",
        "values = [2,3,4,5]\n",
        "def square(n):\n",
        "   return n * n\n",
        "def main():\n",
        "   with ProcessPoolExecutor(max_workers = 3) as executor:\n",
        "      results = executor.map(square, values)\n",
        "   for result in results:\n",
        "      print(result)\n",
        "if __name__ == '__main__':\n",
        "   main()"
      ],
      "metadata": {
        "colab": {
          "base_uri": "https://localhost:8080/"
        },
        "id": "mWk-aT78Lgzk",
        "outputId": "ff33a6b1-31a6-4842-e38f-58b414fcb2f2"
      },
      "execution_count": null,
      "outputs": [
        {
          "output_type": "stream",
          "name": "stdout",
          "text": [
            "4\n",
            "9\n",
            "16\n",
            "25\n"
          ]
        }
      ]
    },
    {
      "cell_type": "code",
      "source": [
        "import threading\n",
        "from pathos.multiprocessing import ProcessingPool as Pool"
      ],
      "metadata": {
        "id": "OogdxC_rpRUa"
      },
      "execution_count": null,
      "outputs": []
    },
    {
      "cell_type": "markdown",
      "source": [
        "##Model 1: 1 CNN without parallelisation"
      ],
      "metadata": {
        "id": "xBaaomz6jjOj"
      }
    },
    {
      "cell_type": "code",
      "source": [
        "#change nn.sequential to take dict to make more readable \n",
        "\n",
        "class cnn_model(nn.Module):\n",
        "    # Define all layers present in the network\n",
        "    def __init__(self,num_emotions):\n",
        "        super().__init__() \n",
        "        \n",
        "        \n",
        "        #CNN block 1\n",
        "        self.conv2Dblock1 = nn.Sequential(\n",
        "            \n",
        "            #convolution layer\n",
        "            nn.Conv2d(\n",
        "                in_channels=1, \n",
        "                out_channels=16, \n",
        "                kernel_size=3, \n",
        "                stride=1,\n",
        "                padding=1\n",
        "                      ),\n",
        "            nn.BatchNorm2d(16), \n",
        "            nn.ReLU(), \n",
        "            nn.MaxPool2d(kernel_size=2, stride=2), \n",
        "            nn.Dropout(p=0.3), \n",
        "            \n",
        "            #convolution layer\n",
        "            nn.Conv2d(\n",
        "                in_channels=16, \n",
        "                out_channels=32,\n",
        "                kernel_size=3,\n",
        "                stride=1,\n",
        "                padding=1\n",
        "                      ),\n",
        "            nn.BatchNorm2d(32),\n",
        "            nn.ReLU(),\n",
        "            nn.MaxPool2d(kernel_size=4, stride=4), \n",
        "            nn.Dropout(p=0.3), \n",
        "            \n",
        "            #convolution layer\n",
        "            nn.Conv2d(\n",
        "                in_channels=32,\n",
        "                out_channels=64, \n",
        "                kernel_size=3,\n",
        "                stride=1,\n",
        "                padding=1\n",
        "                      ),\n",
        "            nn.BatchNorm2d(64),\n",
        "            nn.ReLU(),\n",
        "            nn.MaxPool2d(kernel_size=4, stride=4),\n",
        "            nn.Dropout(p=0.3),\n",
        "        )\n",
        "        \n",
        "\n",
        "      \n",
        "        #linear block\n",
        "        self.fc1_linear = nn.Linear(512,num_emotions) \n",
        "        self.softmax_out = nn.Softmax(dim=1)\n",
        "        \n",
        "    \n",
        "    def forward(self,x):\n",
        "        \n",
        "\n",
        "        conv2d_embedding1 = self.conv2Dblock1(x)\n",
        "        conv2d_embedding1 = torch.flatten(conv2d_embedding1, start_dim=1) \n",
        "        \n",
        "        \n",
        "        #final embedding \n",
        "        complete_embedding = torch.cat([conv2d_embedding1], dim=1)  \n",
        "\n",
        "        #Get vector of 8 with probabilities\n",
        "        output_logits = self.fc1_linear(complete_embedding)  \n",
        "        output_softmax = self.softmax_out(output_logits)\n",
        "        \n",
        "        # need output logits to compute cross entropy loss, need softmax probabilities to predict class\n",
        "        return output_logits, output_softmax                       "
      ],
      "metadata": {
        "id": "MCUaOo8phdFw"
      },
      "execution_count": null,
      "outputs": []
    },
    {
      "cell_type": "markdown",
      "source": [
        "##Model 2: 2 CNNS in parallel"
      ],
      "metadata": {
        "id": "wnTX7qXVnQDE"
      }
    },
    {
      "cell_type": "code",
      "source": [
        "from concurrent.futures import ThreadPoolExecutor\n",
        "import multiprocessing\n",
        "from multiprocessing import Process"
      ],
      "metadata": {
        "id": "CKMlxIVNd_7P"
      },
      "execution_count": null,
      "outputs": []
    },
    {
      "cell_type": "code",
      "source": [
        "'''\n",
        "        with ThreadPoolExecutor as executor:\n",
        "          conv2d_embedding1 = executor.map(self.conv2Dblock1, x)\n",
        "          #conv2d_embedding2 = executor.map(self.conv2Dblock2, x)\n",
        "        for result in conv2d_embedding1:\n",
        "          print(result)\n",
        "        '''\n",
        "'''\n",
        "  manager = multiprocessing.Manager()\n",
        "        conv2d_embedding1  = manager.list()\n",
        "        conv2d_embedding2  = manager.list()\n",
        "        p1=Process(target=self.conv1,args=(x,conv2d_embedding1))\n",
        "        p1.start()\n",
        "        p2=Process(target=self.conv2,args=(x,conv2d_embedding2))\n",
        "        p2.start()\n",
        "        p1.join()\n",
        "        p2.join()\n",
        "        device = 'cuda'\n",
        "        conv2d_embedding1 = torch.Tensor(conv2d_embedding1)\n",
        "        conv2d_embedding2 = torch.Tensor(conv2d_embedding2)\n",
        "        conv2d_embedding1 = conv2d_embedding1.to(device)\n",
        "        conv2d_embedding2 = conv2d_embedding2.to(device)\n",
        "      '''"
      ],
      "metadata": {
        "id": "fI9zBkXVgEm8"
      },
      "execution_count": null,
      "outputs": []
    },
    {
      "cell_type": "code",
      "source": [
        "#change nn.sequential to take dict to make more readable \n",
        "\n",
        "class parallel_model_2cnn(nn.Module):\n",
        "    # Define all layers present in the network\n",
        "    def __init__(self,num_emotions):\n",
        "        super().__init__() \n",
        "        \n",
        "        #1st CNN\n",
        "        #CNN block 1\n",
        "        self.conv2Dblock1 = nn.Sequential(\n",
        "            \n",
        "            #convolution layer\n",
        "            nn.Conv2d(\n",
        "                in_channels=1, \n",
        "                out_channels=16, \n",
        "                kernel_size=3, \n",
        "                stride=1,\n",
        "                padding=1\n",
        "                      ),\n",
        "            nn.BatchNorm2d(16), \n",
        "            nn.ReLU(), \n",
        "            nn.MaxPool2d(kernel_size=2, stride=2), \n",
        "            nn.Dropout(p=0.3), \n",
        "            \n",
        "            #convolution layer\n",
        "            nn.Conv2d(\n",
        "                in_channels=16, \n",
        "                out_channels=32,\n",
        "                kernel_size=3,\n",
        "                stride=1,\n",
        "                padding=1\n",
        "                      ),\n",
        "            nn.BatchNorm2d(32),\n",
        "            nn.ReLU(),\n",
        "            nn.MaxPool2d(kernel_size=4, stride=4), \n",
        "            nn.Dropout(p=0.3), \n",
        "            \n",
        "            #convolution layer\n",
        "            nn.Conv2d(\n",
        "                in_channels=32,\n",
        "                out_channels=64, \n",
        "                kernel_size=3,\n",
        "                stride=1,\n",
        "                padding=1\n",
        "                      ),\n",
        "            nn.BatchNorm2d(64),\n",
        "            nn.ReLU(),\n",
        "            nn.MaxPool2d(kernel_size=4, stride=4),\n",
        "            nn.Dropout(p=0.3),\n",
        "        )\n",
        "        \n",
        "        #2nd CNN\n",
        "        #CNN block 2\n",
        "        self.conv2Dblock2 = nn.Sequential(\n",
        "            \n",
        "            #convolution layer\n",
        "            nn.Conv2d(\n",
        "                in_channels=1, \n",
        "                out_channels=16, \n",
        "                kernel_size=3, \n",
        "                stride=1,\n",
        "                padding=1\n",
        "                      ),\n",
        "            nn.BatchNorm2d(16), \n",
        "            nn.ReLU(), \n",
        "            nn.MaxPool2d(kernel_size=2, stride=2), \n",
        "            nn.Dropout(p=0.3), \n",
        "            \n",
        "           #convolution layer\n",
        "            nn.Conv2d(\n",
        "                in_channels=16, \n",
        "                out_channels=32, \n",
        "                kernel_size=3,\n",
        "                stride=1,\n",
        "                padding=1\n",
        "                      ),\n",
        "            nn.BatchNorm2d(32),\n",
        "            nn.ReLU(),\n",
        "            nn.MaxPool2d(kernel_size=4, stride=4),\n",
        "            nn.Dropout(p=0.3), \n",
        "            \n",
        "            #convolution layer\n",
        "            nn.Conv2d(\n",
        "                in_channels=32,\n",
        "                out_channels=64, \n",
        "                kernel_size=3,\n",
        "                stride=1,\n",
        "                padding=1\n",
        "                      ),\n",
        "            nn.BatchNorm2d(64),\n",
        "            nn.ReLU(),\n",
        "            nn.MaxPool2d(kernel_size=4, stride=4),\n",
        "            nn.Dropout(p=0.3),\n",
        "        )\n",
        "\n",
        "      \n",
        "        #linear block\n",
        "        self.fc1_linear = nn.Linear(512*2,num_emotions) \n",
        "        self.softmax_out = nn.Softmax(dim=1)\n",
        "    def conv1(self, x, conv2d_embedding1):\n",
        "      conv2d_embedding1 = self.conv2Dblock1(x)\n",
        "    def conv2(self, x, conv2d_embedding2):\n",
        "      conv2d_embedding2 = self.conv2Dblock2(x)\n",
        "    \n",
        "    def forward(self,x):\n",
        "        \n",
        "        #parallel cnns\n",
        "        conv2d_embedding1 = self.conv2Dblock1(x)\n",
        "        conv2d_embedding1 = torch.flatten(conv2d_embedding1, start_dim=1) \n",
        "        \n",
        "       \n",
        "        conv2d_embedding2 = self.conv2Dblock2(x)\n",
        "        conv2d_embedding2 = torch.flatten(conv2d_embedding2, start_dim=1) \n",
        "        \n",
        "        \n",
        "        #final embedding \n",
        "        complete_embedding = torch.cat([conv2d_embedding1, conv2d_embedding2], dim=1)  \n",
        "\n",
        "        #Get vector of 8 with probabilities\n",
        "        output_logits = self.fc1_linear(complete_embedding)  \n",
        "        output_softmax = self.softmax_out(output_logits)\n",
        "        \n",
        "        # need output logits to compute cross entropy loss, need softmax probabilities to predict class\n",
        "        return output_logits, output_softmax                       "
      ],
      "metadata": {
        "id": "DOLXCkgVnX2A"
      },
      "execution_count": null,
      "outputs": []
    },
    {
      "cell_type": "markdown",
      "source": [
        "##Model 3: 4 CNNS in parallel"
      ],
      "metadata": {
        "id": "oiRVnY7Eq798"
      }
    },
    {
      "cell_type": "code",
      "source": [
        "#change nn.sequential to take dict to make more readable \n",
        "\n",
        "class parallel_model_4cnn(nn.Module):\n",
        "    # Define all layers present in the network\n",
        "    def __init__(self,num_emotions):\n",
        "        super().__init__() \n",
        "        \n",
        "        #1st CNN\n",
        "        #CNN block 1\n",
        "        self.conv2Dblock1 = nn.Sequential(\n",
        "            \n",
        "            #convolution layer\n",
        "            nn.Conv2d(\n",
        "                in_channels=1, \n",
        "                out_channels=16, \n",
        "                kernel_size=3, \n",
        "                stride=1,\n",
        "                padding=1\n",
        "                      ),\n",
        "            nn.BatchNorm2d(16), \n",
        "            nn.ReLU(), \n",
        "            nn.MaxPool2d(kernel_size=2, stride=2), \n",
        "            nn.Dropout(p=0.3), \n",
        "            \n",
        "            #convolution layer\n",
        "            nn.Conv2d(\n",
        "                in_channels=16, \n",
        "                out_channels=32,\n",
        "                kernel_size=3,\n",
        "                stride=1,\n",
        "                padding=1\n",
        "                      ),\n",
        "            nn.BatchNorm2d(32),\n",
        "            nn.ReLU(),\n",
        "            nn.MaxPool2d(kernel_size=4, stride=4), \n",
        "            nn.Dropout(p=0.3), \n",
        "            \n",
        "            #convolution layer\n",
        "            nn.Conv2d(\n",
        "                in_channels=32,\n",
        "                out_channels=64, \n",
        "                kernel_size=3,\n",
        "                stride=1,\n",
        "                padding=1\n",
        "                      ),\n",
        "            nn.BatchNorm2d(64),\n",
        "            nn.ReLU(),\n",
        "            nn.MaxPool2d(kernel_size=4, stride=4),\n",
        "            nn.Dropout(p=0.3),\n",
        "        )\n",
        "        \n",
        "        #2nd CNN\n",
        "        #CNN block 2\n",
        "        self.conv2Dblock2 = nn.Sequential(\n",
        "            \n",
        "            #convolution layer\n",
        "            nn.Conv2d(\n",
        "                in_channels=1, \n",
        "                out_channels=16, \n",
        "                kernel_size=3, \n",
        "                stride=1,\n",
        "                padding=1\n",
        "                      ),\n",
        "            nn.BatchNorm2d(16), \n",
        "            nn.ReLU(), \n",
        "            nn.MaxPool2d(kernel_size=2, stride=2), \n",
        "            nn.Dropout(p=0.3), \n",
        "            \n",
        "           #convolution layer\n",
        "            nn.Conv2d(\n",
        "                in_channels=16, \n",
        "                out_channels=32, \n",
        "                kernel_size=3,\n",
        "                stride=1,\n",
        "                padding=1\n",
        "                      ),\n",
        "            nn.BatchNorm2d(32),\n",
        "            nn.ReLU(),\n",
        "            nn.MaxPool2d(kernel_size=4, stride=4),\n",
        "            nn.Dropout(p=0.3), \n",
        "            \n",
        "            #convolution layer\n",
        "            nn.Conv2d(\n",
        "                in_channels=32,\n",
        "                out_channels=64, \n",
        "                kernel_size=3,\n",
        "                stride=1,\n",
        "                padding=1\n",
        "                      ),\n",
        "            nn.BatchNorm2d(64),\n",
        "            nn.ReLU(),\n",
        "            nn.MaxPool2d(kernel_size=4, stride=4),\n",
        "            nn.Dropout(p=0.3),\n",
        "        )\n",
        "\n",
        "        self.conv2Dblock3 = nn.Sequential(\n",
        "            \n",
        "            #convolution layer\n",
        "            nn.Conv2d(\n",
        "                in_channels=1, \n",
        "                out_channels=16, \n",
        "                kernel_size=3, \n",
        "                stride=1,\n",
        "                padding=1\n",
        "                      ),\n",
        "            nn.BatchNorm2d(16), \n",
        "            nn.ReLU(), \n",
        "            nn.MaxPool2d(kernel_size=2, stride=2), \n",
        "            nn.Dropout(p=0.3), \n",
        "            \n",
        "           #convolution layer\n",
        "            nn.Conv2d(\n",
        "                in_channels=16, \n",
        "                out_channels=32, \n",
        "                kernel_size=3,\n",
        "                stride=1,\n",
        "                padding=1\n",
        "                      ),\n",
        "            nn.BatchNorm2d(32),\n",
        "            nn.ReLU(),\n",
        "            nn.MaxPool2d(kernel_size=4, stride=4),\n",
        "            nn.Dropout(p=0.3), \n",
        "            \n",
        "            #convolution layer\n",
        "            nn.Conv2d(\n",
        "                in_channels=32,\n",
        "                out_channels=64, \n",
        "                kernel_size=3,\n",
        "                stride=1,\n",
        "                padding=1\n",
        "                      ),\n",
        "            nn.BatchNorm2d(64),\n",
        "            nn.ReLU(),\n",
        "            nn.MaxPool2d(kernel_size=4, stride=4),\n",
        "            nn.Dropout(p=0.3),\n",
        "        )\n",
        "\n",
        "        self.conv2Dblock4 = nn.Sequential(\n",
        "            \n",
        "            #convolution layer\n",
        "            nn.Conv2d(\n",
        "                in_channels=1, \n",
        "                out_channels=16, \n",
        "                kernel_size=3, \n",
        "                stride=1,\n",
        "                padding=1\n",
        "                      ),\n",
        "            nn.BatchNorm2d(16), \n",
        "            nn.ReLU(), \n",
        "            nn.MaxPool2d(kernel_size=2, stride=2), \n",
        "            nn.Dropout(p=0.3), \n",
        "            \n",
        "           #convolution layer\n",
        "            nn.Conv2d(\n",
        "                in_channels=16, \n",
        "                out_channels=32, \n",
        "                kernel_size=3,\n",
        "                stride=1,\n",
        "                padding=1\n",
        "                      ),\n",
        "            nn.BatchNorm2d(32),\n",
        "            nn.ReLU(),\n",
        "            nn.MaxPool2d(kernel_size=4, stride=4),\n",
        "            nn.Dropout(p=0.3), \n",
        "            \n",
        "            #convolution layer\n",
        "            nn.Conv2d(\n",
        "                in_channels=32,\n",
        "                out_channels=64, \n",
        "                kernel_size=3,\n",
        "                stride=1,\n",
        "                padding=1\n",
        "                      ),\n",
        "            nn.BatchNorm2d(64),\n",
        "            nn.ReLU(),\n",
        "            nn.MaxPool2d(kernel_size=4, stride=4),\n",
        "            nn.Dropout(p=0.3),\n",
        "        )\n",
        "      \n",
        "        #linear block\n",
        "        self.fc1_linear = nn.Linear(512*4,num_emotions) \n",
        "        self.softmax_out = nn.Softmax(dim=1)\n",
        "        \n",
        "    \n",
        "    def forward(self,x):\n",
        "        \n",
        "        #parallel cnns\n",
        "        conv2d_embedding1 = self.conv2Dblock1(x)\n",
        "        conv2d_embedding1 = torch.flatten(conv2d_embedding1, start_dim=1) \n",
        "        \n",
        "       \n",
        "        conv2d_embedding2 = self.conv2Dblock2(x)\n",
        "        conv2d_embedding2 = torch.flatten(conv2d_embedding2, start_dim=1) \n",
        "        \n",
        "        conv2d_embedding3 = self.conv2Dblock3(x)\n",
        "        conv2d_embedding3 = torch.flatten(conv2d_embedding3, start_dim=1) \n",
        "\n",
        "        conv2d_embedding4 = self.conv2Dblock4(x)\n",
        "        conv2d_embedding4 = torch.flatten(conv2d_embedding4, start_dim=1) \n",
        "        \n",
        "        #final embedding \n",
        "        complete_embedding = torch.cat([conv2d_embedding1, conv2d_embedding2, conv2d_embedding3, conv2d_embedding4], dim=1)  \n",
        "\n",
        "        #Get vector of 8 with probabilities\n",
        "        output_logits = self.fc1_linear(complete_embedding)  \n",
        "        output_softmax = self.softmax_out(output_logits)\n",
        "        \n",
        "        # need output logits to compute cross entropy loss, need softmax probabilities to predict class\n",
        "        return output_logits, output_softmax                       "
      ],
      "metadata": {
        "id": "ZqUNNKfzq7ue"
      },
      "execution_count": null,
      "outputs": []
    },
    {
      "cell_type": "markdown",
      "source": [
        "##Model 4: 2 CNNS and a transformer encoder in parallel"
      ],
      "metadata": {
        "id": "fOOhnHygja1H"
      }
    },
    {
      "cell_type": "code",
      "execution_count": null,
      "metadata": {
        "id": "Mk7KLkLQ60Dh"
      },
      "outputs": [],
      "source": [
        "#change nn.sequential to take dict to make more readable \n",
        "\n",
        "class parallel_model(nn.Module):\n",
        "    # Define all layers present in the network\n",
        "    def __init__(self,num_emotions):\n",
        "        super().__init__() \n",
        "        \n",
        "       #transformer\n",
        "        self.transformer_maxpool = nn.MaxPool2d(kernel_size=[1,4], stride=[1,4]) #40*70\n",
        "        \n",
        "        # define single transformer encoder layer\n",
        "        transformer_layer = nn.TransformerEncoderLayer(\n",
        "            d_model=40, \n",
        "            nhead=4, \n",
        "            dim_feedforward=512, \n",
        "            dropout=0.4, \n",
        "            activation='relu' \n",
        "        )\n",
        "        self.transformer_encoder = nn.TransformerEncoder(transformer_layer, num_layers=4)\n",
        "        \n",
        "        #1st CNN\n",
        "        #CNN block 1\n",
        "        #(1,40,282) --> (16, 20, 141) -> (32, 5, 35) -> (64, 1, 8)\n",
        "        self.conv2Dblock1 = nn.Sequential(\n",
        "            \n",
        "            #convolution layer\n",
        "            nn.Conv2d(\n",
        "                in_channels=1, \n",
        "                out_channels=16, \n",
        "                kernel_size=3, \n",
        "                stride=1,\n",
        "                padding=1\n",
        "                      ),\n",
        "            nn.BatchNorm2d(16), \n",
        "            nn.ReLU(), \n",
        "            nn.MaxPool2d(kernel_size=2, stride=2), \n",
        "            nn.Dropout(p=0.3), \n",
        "            \n",
        "            #convolution layer\n",
        "            nn.Conv2d(\n",
        "                in_channels=16, \n",
        "                out_channels=32,\n",
        "                kernel_size=3,\n",
        "                stride=1,\n",
        "                padding=1\n",
        "                      ),\n",
        "            nn.BatchNorm2d(32),\n",
        "            nn.ReLU(),\n",
        "            nn.MaxPool2d(kernel_size=4, stride=4), \n",
        "            nn.Dropout(p=0.3), \n",
        "            \n",
        "            #convolution layer\n",
        "            nn.Conv2d(\n",
        "                in_channels=32,\n",
        "                out_channels=64, \n",
        "                kernel_size=3,\n",
        "                stride=1,\n",
        "                padding=1\n",
        "                      ),\n",
        "            nn.BatchNorm2d(64),\n",
        "            nn.ReLU(),\n",
        "            nn.MaxPool2d(kernel_size=4, stride=4),\n",
        "            nn.Dropout(p=0.3),\n",
        "        )\n",
        "        \n",
        "        #2nd CNN\n",
        "        #CNN block 2\n",
        "        self.conv2Dblock2 = nn.Sequential(\n",
        "            \n",
        "            #convolution layer\n",
        "            nn.Conv2d(\n",
        "                in_channels=1, \n",
        "                out_channels=16, \n",
        "                kernel_size=3, \n",
        "                stride=1,\n",
        "                padding=1\n",
        "                      ),\n",
        "            nn.BatchNorm2d(16), \n",
        "            nn.ReLU(), \n",
        "            nn.MaxPool2d(kernel_size=2, stride=2), \n",
        "            nn.Dropout(p=0.3), \n",
        "            \n",
        "           #convolution layer\n",
        "            nn.Conv2d(\n",
        "                in_channels=16, \n",
        "                out_channels=32, \n",
        "                kernel_size=3,\n",
        "                stride=1,\n",
        "                padding=1\n",
        "                      ),\n",
        "            nn.BatchNorm2d(32),\n",
        "            nn.ReLU(),\n",
        "            nn.MaxPool2d(kernel_size=4, stride=4),\n",
        "            nn.Dropout(p=0.3), \n",
        "            \n",
        "            #convolution layer\n",
        "            nn.Conv2d(\n",
        "                in_channels=32,\n",
        "                out_channels=64, \n",
        "                kernel_size=3,\n",
        "                stride=1,\n",
        "                padding=1\n",
        "                      ),\n",
        "            nn.BatchNorm2d(64),\n",
        "            nn.ReLU(),\n",
        "            nn.MaxPool2d(kernel_size=4, stride=4),\n",
        "            nn.Dropout(p=0.3),\n",
        "        )\n",
        "\n",
        "      \n",
        "        #linear block\n",
        "        self.fc1_linear = nn.Linear(512*2+40,num_emotions) \n",
        "        self.softmax_out = nn.Softmax(dim=1)\n",
        "        \n",
        "    \n",
        "    def forward(self,x):\n",
        "        \n",
        "        #parallel cnns\n",
        "        conv2d_embedding1 = self.conv2Dblock1(x)\n",
        "        conv2d_embedding1 = torch.flatten(conv2d_embedding1, start_dim=1) \n",
        "        \n",
        "       \n",
        "        conv2d_embedding2 = self.conv2Dblock2(x)\n",
        "        conv2d_embedding2 = torch.flatten(conv2d_embedding2, start_dim=1) \n",
        "        \n",
        "        #transformer\n",
        "        x_maxpool = self.transformer_maxpool(x)\n",
        "        x_maxpool_reduced = torch.squeeze(x_maxpool,1)\n",
        "        x = x_maxpool_reduced.permute(2,0,1) \n",
        "        transformer_output = self.transformer_encoder(x)\n",
        "        transformer_embedding = torch.mean(transformer_output, dim=0)\n",
        "        \n",
        "        #final embedding \n",
        "        complete_embedding = torch.cat([conv2d_embedding1, conv2d_embedding2,transformer_embedding], dim=1)  \n",
        "\n",
        "        #Get vector of 8 with probabilities\n",
        "        output_logits = self.fc1_linear(complete_embedding)  \n",
        "        output_softmax = self.softmax_out(output_logits)\n",
        "        \n",
        "        # need output logits to compute cross entropy loss, need softmax probabilities to predict class\n",
        "        return output_logits, output_softmax                       "
      ]
    },
    {
      "cell_type": "markdown",
      "metadata": {
        "id": "-1fIIe6i60Dj"
      },
      "source": [
        "Model\n"
      ]
    },
    {
      "cell_type": "code",
      "source": [
        "device = 'cuda'\n",
        "model = parallel_model(len(emotions_dict)).to(device)\n",
        "model.eval()"
      ],
      "metadata": {
        "colab": {
          "base_uri": "https://localhost:8080/"
        },
        "id": "mj1IIXg-g7kR",
        "outputId": "05ec5e45-653c-4d54-836c-55d4bd624992"
      },
      "execution_count": null,
      "outputs": [
        {
          "output_type": "execute_result",
          "data": {
            "text/plain": [
              "parallel_model(\n",
              "  (transformer_maxpool): MaxPool2d(kernel_size=[1, 4], stride=[1, 4], padding=0, dilation=1, ceil_mode=False)\n",
              "  (transformer_encoder): TransformerEncoder(\n",
              "    (layers): ModuleList(\n",
              "      (0): TransformerEncoderLayer(\n",
              "        (self_attn): MultiheadAttention(\n",
              "          (out_proj): NonDynamicallyQuantizableLinear(in_features=40, out_features=40, bias=True)\n",
              "        )\n",
              "        (linear1): Linear(in_features=40, out_features=512, bias=True)\n",
              "        (dropout): Dropout(p=0.4, inplace=False)\n",
              "        (linear2): Linear(in_features=512, out_features=40, bias=True)\n",
              "        (norm1): LayerNorm((40,), eps=1e-05, elementwise_affine=True)\n",
              "        (norm2): LayerNorm((40,), eps=1e-05, elementwise_affine=True)\n",
              "        (dropout1): Dropout(p=0.4, inplace=False)\n",
              "        (dropout2): Dropout(p=0.4, inplace=False)\n",
              "      )\n",
              "      (1): TransformerEncoderLayer(\n",
              "        (self_attn): MultiheadAttention(\n",
              "          (out_proj): NonDynamicallyQuantizableLinear(in_features=40, out_features=40, bias=True)\n",
              "        )\n",
              "        (linear1): Linear(in_features=40, out_features=512, bias=True)\n",
              "        (dropout): Dropout(p=0.4, inplace=False)\n",
              "        (linear2): Linear(in_features=512, out_features=40, bias=True)\n",
              "        (norm1): LayerNorm((40,), eps=1e-05, elementwise_affine=True)\n",
              "        (norm2): LayerNorm((40,), eps=1e-05, elementwise_affine=True)\n",
              "        (dropout1): Dropout(p=0.4, inplace=False)\n",
              "        (dropout2): Dropout(p=0.4, inplace=False)\n",
              "      )\n",
              "      (2): TransformerEncoderLayer(\n",
              "        (self_attn): MultiheadAttention(\n",
              "          (out_proj): NonDynamicallyQuantizableLinear(in_features=40, out_features=40, bias=True)\n",
              "        )\n",
              "        (linear1): Linear(in_features=40, out_features=512, bias=True)\n",
              "        (dropout): Dropout(p=0.4, inplace=False)\n",
              "        (linear2): Linear(in_features=512, out_features=40, bias=True)\n",
              "        (norm1): LayerNorm((40,), eps=1e-05, elementwise_affine=True)\n",
              "        (norm2): LayerNorm((40,), eps=1e-05, elementwise_affine=True)\n",
              "        (dropout1): Dropout(p=0.4, inplace=False)\n",
              "        (dropout2): Dropout(p=0.4, inplace=False)\n",
              "      )\n",
              "      (3): TransformerEncoderLayer(\n",
              "        (self_attn): MultiheadAttention(\n",
              "          (out_proj): NonDynamicallyQuantizableLinear(in_features=40, out_features=40, bias=True)\n",
              "        )\n",
              "        (linear1): Linear(in_features=40, out_features=512, bias=True)\n",
              "        (dropout): Dropout(p=0.4, inplace=False)\n",
              "        (linear2): Linear(in_features=512, out_features=40, bias=True)\n",
              "        (norm1): LayerNorm((40,), eps=1e-05, elementwise_affine=True)\n",
              "        (norm2): LayerNorm((40,), eps=1e-05, elementwise_affine=True)\n",
              "        (dropout1): Dropout(p=0.4, inplace=False)\n",
              "        (dropout2): Dropout(p=0.4, inplace=False)\n",
              "      )\n",
              "    )\n",
              "  )\n",
              "  (conv2Dblock1): Sequential(\n",
              "    (0): Conv2d(1, 16, kernel_size=(3, 3), stride=(1, 1), padding=(1, 1))\n",
              "    (1): BatchNorm2d(16, eps=1e-05, momentum=0.1, affine=True, track_running_stats=True)\n",
              "    (2): ReLU()\n",
              "    (3): MaxPool2d(kernel_size=2, stride=2, padding=0, dilation=1, ceil_mode=False)\n",
              "    (4): Dropout(p=0.3, inplace=False)\n",
              "    (5): Conv2d(16, 32, kernel_size=(3, 3), stride=(1, 1), padding=(1, 1))\n",
              "    (6): BatchNorm2d(32, eps=1e-05, momentum=0.1, affine=True, track_running_stats=True)\n",
              "    (7): ReLU()\n",
              "    (8): MaxPool2d(kernel_size=4, stride=4, padding=0, dilation=1, ceil_mode=False)\n",
              "    (9): Dropout(p=0.3, inplace=False)\n",
              "    (10): Conv2d(32, 64, kernel_size=(3, 3), stride=(1, 1), padding=(1, 1))\n",
              "    (11): BatchNorm2d(64, eps=1e-05, momentum=0.1, affine=True, track_running_stats=True)\n",
              "    (12): ReLU()\n",
              "    (13): MaxPool2d(kernel_size=4, stride=4, padding=0, dilation=1, ceil_mode=False)\n",
              "    (14): Dropout(p=0.3, inplace=False)\n",
              "  )\n",
              "  (conv2Dblock2): Sequential(\n",
              "    (0): Conv2d(1, 16, kernel_size=(3, 3), stride=(1, 1), padding=(1, 1))\n",
              "    (1): BatchNorm2d(16, eps=1e-05, momentum=0.1, affine=True, track_running_stats=True)\n",
              "    (2): ReLU()\n",
              "    (3): MaxPool2d(kernel_size=2, stride=2, padding=0, dilation=1, ceil_mode=False)\n",
              "    (4): Dropout(p=0.3, inplace=False)\n",
              "    (5): Conv2d(16, 32, kernel_size=(3, 3), stride=(1, 1), padding=(1, 1))\n",
              "    (6): BatchNorm2d(32, eps=1e-05, momentum=0.1, affine=True, track_running_stats=True)\n",
              "    (7): ReLU()\n",
              "    (8): MaxPool2d(kernel_size=4, stride=4, padding=0, dilation=1, ceil_mode=False)\n",
              "    (9): Dropout(p=0.3, inplace=False)\n",
              "    (10): Conv2d(32, 64, kernel_size=(3, 3), stride=(1, 1), padding=(1, 1))\n",
              "    (11): BatchNorm2d(64, eps=1e-05, momentum=0.1, affine=True, track_running_stats=True)\n",
              "    (12): ReLU()\n",
              "    (13): MaxPool2d(kernel_size=4, stride=4, padding=0, dilation=1, ceil_mode=False)\n",
              "    (14): Dropout(p=0.3, inplace=False)\n",
              "  )\n",
              "  (fc1_linear): Linear(in_features=1064, out_features=8, bias=True)\n",
              "  (softmax_out): Softmax(dim=1)\n",
              ")"
            ]
          },
          "metadata": {},
          "execution_count": 154
        }
      ]
    },
    {
      "cell_type": "markdown",
      "metadata": {
        "id": "GVZg7zuB60Dm"
      },
      "source": [
        "##Loss/Criterion"
      ]
    },
    {
      "cell_type": "code",
      "execution_count": null,
      "metadata": {
        "id": "F4IudptP60Dm"
      },
      "outputs": [],
      "source": [
        "def criterion(predictions, targets): \n",
        "    return nn.CrossEntropyLoss()(input=predictions, target=targets)"
      ]
    },
    {
      "cell_type": "code",
      "source": [
        "#Choose a model\n",
        "\n",
        "# pick minibatch size (of 32... always)\n",
        "minibatch = 32\n",
        "\n",
        "# set device to GPU\n",
        "device = 'cuda' if torch.cuda.is_available() else 'cpu'\n",
        "print(f'{device} selected')\n",
        "\n",
        "#model = cnn_model(num_emotions=len(emotions_dict)).to(device)\n",
        "model = parallel_model_2cnn(num_emotions=len(emotions_dict)).to(device) \n",
        "#model = parallel_model_4cnn(num_emotions=len(emotions_dict)).to(device) \n",
        "#model = parallel_model(num_emotions=len(emotions_dict)).to(device)"
      ],
      "metadata": {
        "colab": {
          "base_uri": "https://localhost:8080/"
        },
        "id": "WRVEBnwBlrxN",
        "outputId": "022dbf14-393e-46fa-8c62-387c0d8c5452"
      },
      "execution_count": null,
      "outputs": [
        {
          "output_type": "stream",
          "name": "stdout",
          "text": [
            "cuda selected\n"
          ]
        }
      ]
    },
    {
      "cell_type": "code",
      "execution_count": null,
      "metadata": {
        "id": "LGFjDT1i60Do"
      },
      "outputs": [],
      "source": [
        "optimizer = torch.optim.SGD(model.parameters(),lr=0.01, weight_decay=1e-3, momentum=0.8)"
      ]
    },
    {
      "cell_type": "markdown",
      "metadata": {
        "id": "Mr6Vi4Gs60Dr"
      },
      "source": [
        "## Define Training Step\n",
        "\n",
        "\n"
      ]
    },
    {
      "cell_type": "code",
      "execution_count": null,
      "metadata": {
        "id": "zPTbQ53_60Dr"
      },
      "outputs": [],
      "source": [
        "# define function to create a single step of the training phase\n",
        "def make_train_step(model, criterion, optimizer):\n",
        "    \n",
        "    # define the training step of the training phase\n",
        "    def train_step(X,Y):\n",
        "        \n",
        "        # forward pass\n",
        "        output_logits, output_softmax = model(X)\n",
        "        predictions = torch.argmax(output_softmax,dim=1)\n",
        "        accuracy = torch.sum(Y==predictions)/float(len(Y))\n",
        "        \n",
        "        # compute loss on logits because nn.CrossEntropyLoss implements log softmax\n",
        "        loss = criterion(output_logits, Y) \n",
        "        \n",
        "        # compute gradients for the optimizer to use \n",
        "        loss.backward()\n",
        "        \n",
        "        # update network parameters based on gradient stored (by calling loss.backward())\n",
        "        optimizer.step()\n",
        "        \n",
        "        # zero out gradients for next pass\n",
        "        # pytorch accumulates gradients from backwards passes (convenient for RNNs)\n",
        "        optimizer.zero_grad() \n",
        "        \n",
        "        return loss.item(), accuracy*100\n",
        "    return train_step"
      ]
    },
    {
      "cell_type": "markdown",
      "metadata": {
        "id": "xInmb5vS60Dt"
      },
      "source": [
        "## Define Validation Step"
      ]
    },
    {
      "cell_type": "code",
      "execution_count": null,
      "metadata": {
        "id": "vcQyDxEY60Du"
      },
      "outputs": [],
      "source": [
        "def make_validate_fnc(model,criterion):\n",
        "    def validate(X,Y):\n",
        "        \n",
        "        # don't want to update any network parameters on validation passes: don't need gradient\n",
        "        # wrap in torch.no_grad to save memory and compute in validation phase: \n",
        "        with torch.no_grad(): \n",
        "            \n",
        "            # set model to validation phase i.e. turn off dropout and batchnorm layers \n",
        "            model.eval()\n",
        "      \n",
        "            # get the model's predictions on the validation set\n",
        "            output_logits, output_softmax = model(X)\n",
        "            predictions = torch.argmax(output_softmax,dim=1)\n",
        "\n",
        "            # calculate the mean accuracy over the entire validation set\n",
        "            accuracy = torch.sum(Y==predictions)/float(len(Y))\n",
        "            \n",
        "            # compute error from logits (nn.crossentropy implements softmax)\n",
        "            loss = criterion(output_logits,Y)\n",
        "            \n",
        "        return loss.item(), accuracy*100, predictions\n",
        "    return validate"
      ]
    },
    {
      "cell_type": "markdown",
      "metadata": {
        "id": "gQB8sZnL60Dx"
      },
      "source": [
        "# Make Checkpoint Functions\n"
      ]
    },
    {
      "cell_type": "code",
      "execution_count": null,
      "metadata": {
        "id": "rNxhD9-p60Dy"
      },
      "outputs": [],
      "source": [
        "def make_save_checkpoint(): \n",
        "    def save_checkpoint(optimizer, model, epoch, filename):\n",
        "        checkpoint_dict = {\n",
        "            'optimizer': optimizer.state_dict(),\n",
        "            'model': model.state_dict(),\n",
        "            'epoch': epoch\n",
        "        }\n",
        "        torch.save(checkpoint_dict, filename)\n",
        "    return save_checkpoint\n",
        "\n",
        "def load_checkpoint(optimizer, model, filename):\n",
        "    checkpoint_dict = torch.load(filename)\n",
        "    epoch = checkpoint_dict['epoch']\n",
        "    model.load_state_dict(checkpoint_dict['model'])\n",
        "    if optimizer is not None:\n",
        "        optimizer.load_state_dict(checkpoint_dict['optimizer'])\n",
        "    return epoch"
      ]
    },
    {
      "cell_type": "markdown",
      "metadata": {
        "id": "jOiUNC0k60D3"
      },
      "source": [
        "# Build Training Loop\n",
        "\n"
      ]
    },
    {
      "cell_type": "code",
      "execution_count": null,
      "metadata": {
        "colab": {
          "base_uri": "https://localhost:8080/"
        },
        "id": "eg7x2boi60D3",
        "outputId": "30598e4a-ec90-4864-e441-0db12cf09817"
      },
      "outputs": [
        {
          "output_type": "stream",
          "name": "stdout",
          "text": [
            "cuda selected\n",
            "Number of trainable params:  55240\n"
          ]
        }
      ],
      "source": [
        "# get training set size to calculate # iterations and minibatch indices\n",
        "train_size = X_train.shape[0]\n",
        "\n",
        "# pick minibatch size (of 32... always)\n",
        "minibatch = 32\n",
        "\n",
        "# set device to GPU\n",
        "device = 'cuda' if torch.cuda.is_available() else 'cpu'\n",
        "print(f'{device} selected')\n",
        "\n",
        "#Choose a model\n",
        "#model = cnn_model(num_emotions=len(emotions_dict)).to(device)\n",
        "model = parallel_model_2cnn(num_emotions=len(emotions_dict)).to(device) \n",
        "#model = parallel_model_4cnn(num_emotions=len(emotions_dict)).to(device) \n",
        "#model = parallel_model(num_emotions=len(emotions_dict)).to(device) \n",
        "\n",
        " \n",
        "\n",
        "print('Number of trainable params: ',sum(p.numel() for p in model.parameters()) )\n",
        "\n",
        "\n",
        "optimizer = torch.optim.SGD(model.parameters(),lr=0.01, weight_decay=1e-3, momentum=0.8)\n",
        "\n",
        "save_checkpoint = make_save_checkpoint()\n",
        "\n",
        "\n",
        "train_step = make_train_step(model, criterion, optimizer=optimizer)\n",
        "\n",
        "\n",
        "validate = make_validate_fnc(model,criterion)\n",
        "\n",
        "\n",
        "train_losses=[]\n",
        "valid_losses = []\n",
        "train_acc = []\n",
        "valid_accu = []\n",
        "\n",
        "\n",
        "def train(optimizer, model, num_epochs, X_train, Y_train, X_valid, Y_valid):\n",
        "\n",
        "    for epoch in range(num_epochs):\n",
        "        \n",
        "        model.train()         \n",
        "        train_indices = np.random.permutation(train_size) \n",
        "        X_train = X_train[train_indices,:,:,:] \n",
        "        Y_train = Y_train[train_indices]\n",
        "\n",
        "        epoch_acc = 0 \n",
        "        epoch_loss = 0\n",
        "        num_iterations = int(train_size / minibatch)\n",
        "        \n",
        "\n",
        "        for i in range(num_iterations):\n",
        "\n",
        "            batch_start = i * minibatch \n",
        "\n",
        "            batch_end = min(batch_start + minibatch, train_size) \n",
        "            actual_batch_size = batch_end-batch_start \n",
        "            \n",
        "            X = X_train[batch_start:batch_end,:,:,:] \n",
        "            Y = Y_train[batch_start:batch_end] \n",
        "\n",
        "            X_tensor = torch.tensor(X, device=device).float() \n",
        "            Y_tensor = torch.tensor(Y, dtype=torch.long,device=device)\n",
        "            \n",
        "            loss, acc = train_step(X_tensor,Y_tensor) \n",
        "\n",
        "            epoch_acc += acc * actual_batch_size / train_size\n",
        "            epoch_loss += loss * actual_batch_size / train_size\n",
        "\n",
        "            print('\\r'+f'Epoch {epoch}: iteration {i}/{num_iterations}',end='')\n",
        "        \n",
        "\n",
        "        X_valid_tensor = torch.tensor(X_valid,device=device).float()\n",
        "        Y_valid_tensor = torch.tensor(Y_valid,dtype=torch.long,device=device)\n",
        "        \n",
        "\n",
        "        valid_loss, valid_acc, _ = validate(X_valid_tensor,Y_valid_tensor)\n",
        "\n",
        "        train_acc.append(epoch_acc)\n",
        "        valid_accu.append(valid_acc)\n",
        "        train_losses.append(epoch_loss)\n",
        "        valid_losses.append(valid_loss)\n",
        "                  \n",
        "\n",
        "        checkpoint_filename = '/content/gdrive/MyDrive/models/checkpoints/audioparallel-{:03d}.pkl'.format(epoch)\n",
        "        save_checkpoint(optimizer, model, epoch, checkpoint_filename)\n",
        "        \n",
        "\n",
        "        print(f'\\nEpoch {epoch} --- loss:{epoch_loss:.3f}, Epoch accuracy:{epoch_acc:.2f}%, Validation loss:{valid_loss:.3f}, Validation accuracy:{valid_acc:.2f}%')\n"
      ]
    },
    {
      "cell_type": "markdown",
      "metadata": {
        "id": "xWMjT8zoHGas"
      },
      "source": [
        "## Train Model"
      ]
    },
    {
      "cell_type": "markdown",
      "source": [
        "###Model 1 - 1 CNN"
      ],
      "metadata": {
        "id": "83lCHzxxw9tQ"
      }
    },
    {
      "cell_type": "code",
      "execution_count": null,
      "metadata": {
        "id": "sie3lrs3XkRf"
      },
      "outputs": [],
      "source": [
        "num_epochs = 100\n",
        "model = cnn_model(num_emotions=len(emotions_dict)).to(device) \n",
        "train(optimizer, model, num_epochs, X_train, y_train, X_valid, y_valid)"
      ]
    },
    {
      "cell_type": "code",
      "source": [
        "train_losses1 = train_losses\n",
        "valid_losses1  = valid_losses\n",
        "train_acc1 = torch.tensor(train_acc,device='cpu').float()\n",
        "valid_accu1 = torch.tensor(valid_accu,device='cpu').float()\n",
        "\n",
        "#re-instantiate lists\n",
        "train_losses=[]\n",
        "valid_losses = []\n",
        "train_acc = []\n",
        "valid_accu = []"
      ],
      "metadata": {
        "id": "hhJ2aXhPsJPZ"
      },
      "execution_count": null,
      "outputs": []
    },
    {
      "cell_type": "markdown",
      "source": [
        "###Model 2 - 2 CNNS\n"
      ],
      "metadata": {
        "id": "fN5fYZDFxAYq"
      }
    },
    {
      "cell_type": "code",
      "source": [
        "num_epochs = 100\n",
        "train(optimizer, model, num_epochs, X_train, y_train, X_valid, y_valid)"
      ],
      "metadata": {
        "colab": {
          "base_uri": "https://localhost:8080/"
        },
        "id": "mGB0hD_Ppeqg",
        "outputId": "32b8e888-04d4-4b4f-b255-8aa289e51407"
      },
      "execution_count": null,
      "outputs": [
        {
          "output_type": "stream",
          "name": "stdout",
          "text": [
            "Epoch 0: iteration 106/107\n",
            "Epoch 0 --- loss:3.166, Epoch accuracy:23.54%, Validation loss:2.071, Validation accuracy:22.14%\n",
            "Epoch 1: iteration 106/107\n",
            "Epoch 1 --- loss:1.821, Epoch accuracy:31.27%, Validation loss:1.820, Validation accuracy:28.67%\n",
            "Epoch 2: iteration 106/107\n",
            "Epoch 2 --- loss:1.701, Epoch accuracy:34.00%, Validation loss:1.797, Validation accuracy:31.70%\n",
            "Epoch 3: iteration 106/107\n",
            "Epoch 3 --- loss:1.604, Epoch accuracy:39.26%, Validation loss:1.679, Validation accuracy:39.63%\n",
            "Epoch 4: iteration 106/107\n",
            "Epoch 4 --- loss:1.497, Epoch accuracy:44.06%, Validation loss:1.625, Validation accuracy:40.09%\n",
            "Epoch 5: iteration 106/107\n",
            "Epoch 5 --- loss:1.419, Epoch accuracy:45.74%, Validation loss:1.338, Validation accuracy:51.98%\n",
            "Epoch 6: iteration 106/107\n",
            "Epoch 6 --- loss:1.314, Epoch accuracy:50.71%, Validation loss:1.300, Validation accuracy:45.92%\n",
            "Epoch 7: iteration 106/107\n",
            "Epoch 7 --- loss:1.289, Epoch accuracy:51.03%, Validation loss:1.296, Validation accuracy:51.28%\n",
            "Epoch 8: iteration 106/107\n",
            "Epoch 8 --- loss:1.241, Epoch accuracy:53.56%, Validation loss:1.280, Validation accuracy:51.28%\n",
            "Epoch 9: iteration 106/107\n",
            "Epoch 9 --- loss:1.196, Epoch accuracy:55.71%, Validation loss:1.187, Validation accuracy:59.44%\n",
            "Epoch 10: iteration 106/107\n",
            "Epoch 10 --- loss:1.137, Epoch accuracy:58.47%, Validation loss:1.232, Validation accuracy:48.72%\n",
            "Epoch 11: iteration 106/107\n",
            "Epoch 11 --- loss:1.110, Epoch accuracy:58.36%, Validation loss:1.192, Validation accuracy:53.85%\n",
            "Epoch 12: iteration 106/107\n",
            "Epoch 12 --- loss:1.090, Epoch accuracy:59.43%, Validation loss:1.152, Validation accuracy:60.14%\n",
            "Epoch 13: iteration 106/107\n",
            "Epoch 13 --- loss:1.075, Epoch accuracy:59.17%, Validation loss:1.177, Validation accuracy:53.85%\n",
            "Epoch 14: iteration 106/107\n",
            "Epoch 14 --- loss:1.012, Epoch accuracy:62.57%, Validation loss:1.056, Validation accuracy:60.37%\n",
            "Epoch 15: iteration 106/107\n",
            "Epoch 15 --- loss:1.004, Epoch accuracy:63.06%, Validation loss:1.230, Validation accuracy:52.45%\n",
            "Epoch 16: iteration 106/107\n",
            "Epoch 16 --- loss:0.971, Epoch accuracy:63.30%, Validation loss:1.029, Validation accuracy:64.10%\n",
            "Epoch 17: iteration 106/107\n",
            "Epoch 17 --- loss:0.947, Epoch accuracy:64.66%, Validation loss:1.080, Validation accuracy:55.48%\n",
            "Epoch 18: iteration 106/107\n",
            "Epoch 18 --- loss:0.904, Epoch accuracy:65.74%, Validation loss:1.119, Validation accuracy:56.41%\n",
            "Epoch 19: iteration 106/107\n",
            "Epoch 19 --- loss:0.891, Epoch accuracy:67.54%, Validation loss:1.169, Validation accuracy:55.94%\n",
            "Epoch 20: iteration 106/107\n",
            "Epoch 20 --- loss:0.857, Epoch accuracy:68.61%, Validation loss:0.980, Validation accuracy:65.03%\n",
            "Epoch 21: iteration 106/107\n",
            "Epoch 21 --- loss:0.836, Epoch accuracy:69.86%, Validation loss:0.984, Validation accuracy:62.24%\n",
            "Epoch 22: iteration 106/107\n",
            "Epoch 22 --- loss:0.817, Epoch accuracy:69.89%, Validation loss:0.974, Validation accuracy:64.34%\n",
            "Epoch 23: iteration 106/107\n",
            "Epoch 23 --- loss:0.827, Epoch accuracy:69.19%, Validation loss:0.974, Validation accuracy:65.27%\n",
            "Epoch 24: iteration 106/107\n",
            "Epoch 24 --- loss:0.783, Epoch accuracy:71.78%, Validation loss:0.990, Validation accuracy:61.07%\n",
            "Epoch 25: iteration 106/107\n",
            "Epoch 25 --- loss:0.764, Epoch accuracy:72.36%, Validation loss:0.958, Validation accuracy:65.50%\n",
            "Epoch 26: iteration 106/107\n",
            "Epoch 26 --- loss:0.733, Epoch accuracy:73.09%, Validation loss:1.040, Validation accuracy:63.17%\n",
            "Epoch 27: iteration 106/107\n",
            "Epoch 27 --- loss:0.748, Epoch accuracy:72.13%, Validation loss:1.005, Validation accuracy:62.47%\n",
            "Epoch 28: iteration 106/107\n",
            "Epoch 28 --- loss:0.699, Epoch accuracy:74.54%, Validation loss:0.850, Validation accuracy:68.30%\n",
            "Epoch 29: iteration 106/107\n",
            "Epoch 29 --- loss:0.706, Epoch accuracy:74.22%, Validation loss:0.970, Validation accuracy:65.27%\n",
            "Epoch 30: iteration 106/107\n",
            "Epoch 30 --- loss:0.694, Epoch accuracy:75.68%, Validation loss:0.862, Validation accuracy:66.43%\n",
            "Epoch 31: iteration 106/107\n",
            "Epoch 31 --- loss:0.685, Epoch accuracy:74.51%, Validation loss:0.848, Validation accuracy:67.37%\n",
            "Epoch 32: iteration 106/107\n",
            "Epoch 32 --- loss:0.672, Epoch accuracy:75.41%, Validation loss:1.053, Validation accuracy:62.47%\n",
            "Epoch 33: iteration 106/107\n",
            "Epoch 33 --- loss:0.648, Epoch accuracy:76.32%, Validation loss:0.798, Validation accuracy:70.40%\n",
            "Epoch 34: iteration 106/107\n",
            "Epoch 34 --- loss:0.607, Epoch accuracy:78.09%, Validation loss:0.943, Validation accuracy:65.97%\n",
            "Epoch 35: iteration 106/107\n",
            "Epoch 35 --- loss:0.604, Epoch accuracy:78.55%, Validation loss:0.828, Validation accuracy:67.37%\n",
            "Epoch 36: iteration 106/107\n",
            "Epoch 36 --- loss:0.604, Epoch accuracy:78.35%, Validation loss:1.010, Validation accuracy:58.28%\n",
            "Epoch 37: iteration 106/107\n",
            "Epoch 37 --- loss:0.577, Epoch accuracy:78.76%, Validation loss:0.824, Validation accuracy:67.13%\n",
            "Epoch 38: iteration 106/107\n",
            "Epoch 38 --- loss:0.575, Epoch accuracy:79.13%, Validation loss:0.856, Validation accuracy:67.37%\n",
            "Epoch 39: iteration 106/107\n",
            "Epoch 39 --- loss:0.537, Epoch accuracy:80.03%, Validation loss:0.821, Validation accuracy:67.37%\n",
            "Epoch 40: iteration 106/107\n",
            "Epoch 40 --- loss:0.540, Epoch accuracy:79.98%, Validation loss:0.829, Validation accuracy:72.26%\n",
            "Epoch 41: iteration 106/107\n",
            "Epoch 41 --- loss:0.546, Epoch accuracy:80.76%, Validation loss:0.799, Validation accuracy:72.49%\n",
            "Epoch 42: iteration 106/107\n",
            "Epoch 42 --- loss:0.526, Epoch accuracy:81.14%, Validation loss:0.894, Validation accuracy:67.13%\n",
            "Epoch 43: iteration 106/107\n",
            "Epoch 43 --- loss:0.528, Epoch accuracy:80.76%, Validation loss:0.851, Validation accuracy:69.93%\n",
            "Epoch 44: iteration 106/107\n",
            "Epoch 44 --- loss:0.491, Epoch accuracy:82.39%, Validation loss:0.878, Validation accuracy:66.67%\n",
            "Epoch 45: iteration 106/107\n",
            "Epoch 45 --- loss:0.485, Epoch accuracy:81.95%, Validation loss:0.789, Validation accuracy:70.40%\n",
            "Epoch 46: iteration 106/107\n",
            "Epoch 46 --- loss:0.488, Epoch accuracy:82.48%, Validation loss:0.814, Validation accuracy:70.16%\n",
            "Epoch 47: iteration 106/107\n",
            "Epoch 47 --- loss:0.483, Epoch accuracy:82.85%, Validation loss:0.829, Validation accuracy:71.33%\n",
            "Epoch 48: iteration 106/107\n",
            "Epoch 48 --- loss:0.455, Epoch accuracy:83.58%, Validation loss:0.831, Validation accuracy:67.13%\n",
            "Epoch 49: iteration 106/107\n",
            "Epoch 49 --- loss:0.462, Epoch accuracy:83.38%, Validation loss:0.958, Validation accuracy:61.54%\n",
            "Epoch 50: iteration 106/107\n",
            "Epoch 50 --- loss:0.452, Epoch accuracy:84.54%, Validation loss:0.801, Validation accuracy:68.76%\n",
            "Epoch 51: iteration 106/107\n",
            "Epoch 51 --- loss:0.453, Epoch accuracy:83.70%, Validation loss:0.852, Validation accuracy:66.67%\n",
            "Epoch 52: iteration 106/107\n",
            "Epoch 52 --- loss:0.427, Epoch accuracy:84.42%, Validation loss:0.867, Validation accuracy:68.30%\n",
            "Epoch 53: iteration 106/107\n",
            "Epoch 53 --- loss:0.441, Epoch accuracy:83.99%, Validation loss:0.913, Validation accuracy:65.97%\n",
            "Epoch 54: iteration 106/107\n",
            "Epoch 54 --- loss:0.419, Epoch accuracy:85.53%, Validation loss:0.893, Validation accuracy:68.30%\n",
            "Epoch 55: iteration 106/107\n",
            "Epoch 55 --- loss:0.395, Epoch accuracy:86.25%, Validation loss:0.941, Validation accuracy:66.67%\n",
            "Epoch 56: iteration 106/107\n",
            "Epoch 56 --- loss:0.419, Epoch accuracy:85.27%, Validation loss:0.856, Validation accuracy:67.83%\n",
            "Epoch 57: iteration 106/107\n",
            "Epoch 57 --- loss:0.398, Epoch accuracy:86.11%, Validation loss:0.792, Validation accuracy:69.70%\n",
            "Epoch 58: iteration 106/107\n",
            "Epoch 58 --- loss:0.385, Epoch accuracy:85.67%, Validation loss:0.953, Validation accuracy:65.27%\n",
            "Epoch 59: iteration 106/107\n",
            "Epoch 59 --- loss:0.370, Epoch accuracy:86.63%, Validation loss:0.770, Validation accuracy:72.96%\n",
            "Epoch 60: iteration 106/107\n",
            "Epoch 60 --- loss:0.388, Epoch accuracy:85.59%, Validation loss:0.774, Validation accuracy:71.79%\n",
            "Epoch 61: iteration 106/107\n",
            "Epoch 61 --- loss:0.397, Epoch accuracy:85.99%, Validation loss:0.871, Validation accuracy:69.70%\n",
            "Epoch 62: iteration 106/107\n",
            "Epoch 62 --- loss:0.378, Epoch accuracy:86.11%, Validation loss:0.886, Validation accuracy:67.37%\n",
            "Epoch 63: iteration 106/107\n",
            "Epoch 63 --- loss:0.364, Epoch accuracy:87.56%, Validation loss:0.796, Validation accuracy:72.26%\n",
            "Epoch 64: iteration 106/107\n",
            "Epoch 64 --- loss:0.357, Epoch accuracy:87.13%, Validation loss:0.795, Validation accuracy:73.89%\n",
            "Epoch 65: iteration 106/107\n",
            "Epoch 65 --- loss:0.373, Epoch accuracy:86.52%, Validation loss:0.776, Validation accuracy:71.56%\n",
            "Epoch 66: iteration 106/107\n",
            "Epoch 66 --- loss:0.348, Epoch accuracy:87.94%, Validation loss:0.854, Validation accuracy:68.53%\n",
            "Epoch 67: iteration 106/107\n",
            "Epoch 67 --- loss:0.339, Epoch accuracy:88.32%, Validation loss:0.780, Validation accuracy:72.49%\n",
            "Epoch 68: iteration 106/107\n",
            "Epoch 68 --- loss:0.363, Epoch accuracy:86.63%, Validation loss:0.843, Validation accuracy:71.10%\n",
            "Epoch 69: iteration 106/107\n",
            "Epoch 69 --- loss:0.348, Epoch accuracy:88.26%, Validation loss:0.807, Validation accuracy:72.26%\n",
            "Epoch 70: iteration 106/107\n",
            "Epoch 70 --- loss:0.330, Epoch accuracy:88.43%, Validation loss:0.795, Validation accuracy:72.03%\n",
            "Epoch 71: iteration 106/107\n",
            "Epoch 71 --- loss:0.349, Epoch accuracy:87.59%, Validation loss:0.928, Validation accuracy:70.40%\n",
            "Epoch 72: iteration 106/107\n",
            "Epoch 72 --- loss:0.325, Epoch accuracy:88.70%, Validation loss:0.809, Validation accuracy:71.79%\n",
            "Epoch 73: iteration 106/107\n",
            "Epoch 73 --- loss:0.332, Epoch accuracy:88.14%, Validation loss:0.877, Validation accuracy:68.76%\n",
            "Epoch 74: iteration 106/107\n",
            "Epoch 74 --- loss:0.334, Epoch accuracy:88.40%, Validation loss:0.768, Validation accuracy:69.00%\n",
            "Epoch 75: iteration 106/107\n",
            "Epoch 75 --- loss:0.322, Epoch accuracy:88.70%, Validation loss:0.874, Validation accuracy:69.00%\n",
            "Epoch 76: iteration 106/107\n",
            "Epoch 76 --- loss:0.322, Epoch accuracy:88.32%, Validation loss:0.835, Validation accuracy:71.33%\n",
            "Epoch 77: iteration 106/107\n",
            "Epoch 77 --- loss:0.327, Epoch accuracy:88.52%, Validation loss:0.797, Validation accuracy:72.26%\n",
            "Epoch 78: iteration 106/107\n",
            "Epoch 78 --- loss:0.324, Epoch accuracy:88.96%, Validation loss:0.862, Validation accuracy:70.16%\n",
            "Epoch 79: iteration 106/107\n",
            "Epoch 79 --- loss:0.318, Epoch accuracy:89.04%, Validation loss:0.780, Validation accuracy:70.86%\n",
            "Epoch 80: iteration 106/107\n",
            "Epoch 80 --- loss:0.298, Epoch accuracy:89.22%, Validation loss:0.797, Validation accuracy:71.10%\n",
            "Epoch 81: iteration 106/107\n",
            "Epoch 81 --- loss:0.294, Epoch accuracy:89.86%, Validation loss:0.838, Validation accuracy:70.63%\n",
            "Epoch 82: iteration 106/107\n",
            "Epoch 82 --- loss:0.296, Epoch accuracy:90.06%, Validation loss:0.778, Validation accuracy:71.79%\n",
            "Epoch 83: iteration 106/107\n",
            "Epoch 83 --- loss:0.298, Epoch accuracy:89.48%, Validation loss:0.741, Validation accuracy:75.52%\n",
            "Epoch 84: iteration 106/107\n",
            "Epoch 84 --- loss:0.298, Epoch accuracy:90.09%, Validation loss:0.772, Validation accuracy:73.66%\n",
            "Epoch 85: iteration 106/107\n",
            "Epoch 85 --- loss:0.294, Epoch accuracy:89.97%, Validation loss:0.855, Validation accuracy:70.16%\n",
            "Epoch 86: iteration 106/107\n",
            "Epoch 86 --- loss:0.281, Epoch accuracy:90.21%, Validation loss:0.751, Validation accuracy:73.66%\n",
            "Epoch 87: iteration 106/107\n",
            "Epoch 87 --- loss:0.282, Epoch accuracy:90.35%, Validation loss:0.782, Validation accuracy:72.49%\n",
            "Epoch 88: iteration 106/107\n",
            "Epoch 88 --- loss:0.289, Epoch accuracy:90.24%, Validation loss:0.756, Validation accuracy:70.63%\n",
            "Epoch 89: iteration 106/107\n",
            "Epoch 89 --- loss:0.281, Epoch accuracy:90.85%, Validation loss:0.812, Validation accuracy:69.70%\n",
            "Epoch 90: iteration 106/107\n",
            "Epoch 90 --- loss:0.273, Epoch accuracy:90.73%, Validation loss:0.725, Validation accuracy:75.06%\n",
            "Epoch 91: iteration 106/107\n",
            "Epoch 91 --- loss:0.282, Epoch accuracy:89.51%, Validation loss:0.826, Validation accuracy:73.19%\n",
            "Epoch 92: iteration 106/107\n",
            "Epoch 92 --- loss:0.282, Epoch accuracy:90.32%, Validation loss:0.731, Validation accuracy:74.36%\n",
            "Epoch 93: iteration 106/107\n",
            "Epoch 93 --- loss:0.272, Epoch accuracy:90.73%, Validation loss:0.769, Validation accuracy:72.73%\n",
            "Epoch 94: iteration 106/107\n",
            "Epoch 94 --- loss:0.252, Epoch accuracy:91.25%, Validation loss:0.726, Validation accuracy:72.73%\n",
            "Epoch 95: iteration 106/107\n",
            "Epoch 95 --- loss:0.266, Epoch accuracy:90.00%, Validation loss:0.722, Validation accuracy:74.59%\n",
            "Epoch 96: iteration 106/107\n",
            "Epoch 96 --- loss:0.269, Epoch accuracy:90.41%, Validation loss:0.692, Validation accuracy:76.22%\n",
            "Epoch 97: iteration 106/107\n",
            "Epoch 97 --- loss:0.252, Epoch accuracy:91.46%, Validation loss:0.723, Validation accuracy:73.43%\n",
            "Epoch 98: iteration 106/107\n",
            "Epoch 98 --- loss:0.258, Epoch accuracy:91.28%, Validation loss:0.763, Validation accuracy:72.26%\n",
            "Epoch 99: iteration 106/107\n",
            "Epoch 99 --- loss:0.257, Epoch accuracy:91.08%, Validation loss:0.763, Validation accuracy:75.29%\n"
          ]
        }
      ]
    },
    {
      "cell_type": "code",
      "source": [
        "train_losses2 = train_losses\n",
        "valid_losses2  = valid_losses\n",
        "train_acc2 = torch.tensor(train_acc,device='cpu').float()\n",
        "valid_accu2 = torch.tensor(valid_accu,device='cpu').float()\n",
        "\n",
        "#re-instantiate lists\n",
        "train_losses=[]\n",
        "valid_losses = []\n",
        "train_acc = []\n",
        "valid_accu = []"
      ],
      "metadata": {
        "id": "4FERccB-tIlR"
      },
      "execution_count": null,
      "outputs": []
    },
    {
      "cell_type": "markdown",
      "source": [
        "###Model 3 - 4 CNNS\n"
      ],
      "metadata": {
        "id": "rs8I7YPgxDRH"
      }
    },
    {
      "cell_type": "code",
      "source": [
        "num_epochs = 100\n",
        "train(optimizer, model, num_epochs, X_train, y_train, X_valid, y_valid)"
      ],
      "metadata": {
        "colab": {
          "base_uri": "https://localhost:8080/"
        },
        "id": "4JlLv5XRsAPj",
        "outputId": "2ada8085-73d9-44b9-bd1b-da836f4513d6"
      },
      "execution_count": null,
      "outputs": [
        {
          "output_type": "stream",
          "name": "stdout",
          "text": [
            "Epoch 0: iteration 106/107\n",
            "Epoch 0 --- loss:5.031, Epoch accuracy:22.52%, Validation loss:2.487, Validation accuracy:14.45%\n",
            "Epoch 1: iteration 106/107\n",
            "Epoch 1 --- loss:1.870, Epoch accuracy:32.32%, Validation loss:2.374, Validation accuracy:20.98%\n",
            "Epoch 2: iteration 106/107\n",
            "Epoch 2 --- loss:1.722, Epoch accuracy:37.69%, Validation loss:1.977, Validation accuracy:29.14%\n",
            "Epoch 3: iteration 106/107\n",
            "Epoch 3 --- loss:1.553, Epoch accuracy:42.31%, Validation loss:1.984, Validation accuracy:27.51%\n",
            "Epoch 4: iteration 106/107\n",
            "Epoch 4 --- loss:1.472, Epoch accuracy:45.10%, Validation loss:1.705, Validation accuracy:39.39%\n",
            "Epoch 5: iteration 106/107\n",
            "Epoch 5 --- loss:1.392, Epoch accuracy:47.78%, Validation loss:1.702, Validation accuracy:39.39%\n",
            "Epoch 6: iteration 106/107\n",
            "Epoch 6 --- loss:1.321, Epoch accuracy:51.67%, Validation loss:1.691, Validation accuracy:38.46%\n",
            "Epoch 7: iteration 106/107\n",
            "Epoch 7 --- loss:1.246, Epoch accuracy:54.03%, Validation loss:1.620, Validation accuracy:41.96%\n",
            "Epoch 8: iteration 106/107\n",
            "Epoch 8 --- loss:1.188, Epoch accuracy:55.27%, Validation loss:1.458, Validation accuracy:44.29%\n",
            "Epoch 9: iteration 106/107\n",
            "Epoch 9 --- loss:1.181, Epoch accuracy:55.51%, Validation loss:1.825, Validation accuracy:39.86%\n",
            "Epoch 10: iteration 106/107\n",
            "Epoch 10 --- loss:1.075, Epoch accuracy:60.22%, Validation loss:1.367, Validation accuracy:52.21%\n",
            "Epoch 11: iteration 106/107\n",
            "Epoch 11 --- loss:1.023, Epoch accuracy:62.31%, Validation loss:1.273, Validation accuracy:53.15%\n",
            "Epoch 12: iteration 106/107\n",
            "Epoch 12 --- loss:1.025, Epoch accuracy:61.73%, Validation loss:1.391, Validation accuracy:51.52%\n",
            "Epoch 13: iteration 106/107\n",
            "Epoch 13 --- loss:0.955, Epoch accuracy:65.10%, Validation loss:1.298, Validation accuracy:51.28%\n",
            "Epoch 14: iteration 106/107\n",
            "Epoch 14 --- loss:0.923, Epoch accuracy:66.23%, Validation loss:1.113, Validation accuracy:59.44%\n",
            "Epoch 15: iteration 106/107\n",
            "Epoch 15 --- loss:0.891, Epoch accuracy:66.84%, Validation loss:1.206, Validation accuracy:55.01%\n",
            "Epoch 16: iteration 106/107\n",
            "Epoch 16 --- loss:0.861, Epoch accuracy:67.51%, Validation loss:1.410, Validation accuracy:51.52%\n",
            "Epoch 17: iteration 106/107\n",
            "Epoch 17 --- loss:0.827, Epoch accuracy:69.83%, Validation loss:1.084, Validation accuracy:59.67%\n",
            "Epoch 18: iteration 106/107\n",
            "Epoch 18 --- loss:0.791, Epoch accuracy:70.56%, Validation loss:1.120, Validation accuracy:59.67%\n",
            "Epoch 19: iteration 106/107\n",
            "Epoch 19 --- loss:0.778, Epoch accuracy:72.04%, Validation loss:1.088, Validation accuracy:60.84%\n",
            "Epoch 20: iteration 106/107\n",
            "Epoch 20 --- loss:0.729, Epoch accuracy:73.41%, Validation loss:1.052, Validation accuracy:63.17%\n",
            "Epoch 21: iteration 106/107\n",
            "Epoch 21 --- loss:0.706, Epoch accuracy:74.02%, Validation loss:1.055, Validation accuracy:62.94%\n",
            "Epoch 22: iteration 106/107\n",
            "Epoch 22 --- loss:0.701, Epoch accuracy:74.51%, Validation loss:1.092, Validation accuracy:59.67%\n",
            "Epoch 23: iteration 106/107\n",
            "Epoch 23 --- loss:0.688, Epoch accuracy:75.09%, Validation loss:0.998, Validation accuracy:65.03%\n",
            "Epoch 24: iteration 106/107\n",
            "Epoch 24 --- loss:0.639, Epoch accuracy:75.70%, Validation loss:1.013, Validation accuracy:64.57%\n",
            "Epoch 25: iteration 106/107\n",
            "Epoch 25 --- loss:0.629, Epoch accuracy:77.01%, Validation loss:1.004, Validation accuracy:62.47%\n",
            "Epoch 26: iteration 106/107\n",
            "Epoch 26 --- loss:0.611, Epoch accuracy:77.54%, Validation loss:1.067, Validation accuracy:64.34%\n",
            "Epoch 27: iteration 106/107\n",
            "Epoch 27 --- loss:0.612, Epoch accuracy:77.80%, Validation loss:1.097, Validation accuracy:62.94%\n",
            "Epoch 28: iteration 106/107\n",
            "Epoch 28 --- loss:0.582, Epoch accuracy:78.73%, Validation loss:0.948, Validation accuracy:68.30%\n",
            "Epoch 29: iteration 106/107\n",
            "Epoch 29 --- loss:0.564, Epoch accuracy:79.95%, Validation loss:0.992, Validation accuracy:67.13%\n",
            "Epoch 30: iteration 106/107\n",
            "Epoch 30 --- loss:0.530, Epoch accuracy:81.63%, Validation loss:0.944, Validation accuracy:67.83%\n",
            "Epoch 31: iteration 106/107\n",
            "Epoch 31 --- loss:0.512, Epoch accuracy:81.63%, Validation loss:0.999, Validation accuracy:68.07%\n",
            "Epoch 32: iteration 106/107\n",
            "Epoch 32 --- loss:0.514, Epoch accuracy:81.98%, Validation loss:0.919, Validation accuracy:70.40%\n",
            "Epoch 33: iteration 106/107\n",
            "Epoch 33 --- loss:0.462, Epoch accuracy:83.73%, Validation loss:0.938, Validation accuracy:66.43%\n",
            "Epoch 34: iteration 106/107\n",
            "Epoch 34 --- loss:0.511, Epoch accuracy:81.11%, Validation loss:0.919, Validation accuracy:71.10%\n",
            "Epoch 35: iteration 106/107\n",
            "Epoch 35 --- loss:0.476, Epoch accuracy:82.56%, Validation loss:0.928, Validation accuracy:67.60%\n",
            "Epoch 36: iteration 106/107\n",
            "Epoch 36 --- loss:0.481, Epoch accuracy:83.00%, Validation loss:0.846, Validation accuracy:73.43%\n",
            "Epoch 37: iteration 106/107\n",
            "Epoch 37 --- loss:0.442, Epoch accuracy:84.60%, Validation loss:0.931, Validation accuracy:68.76%\n",
            "Epoch 38: iteration 106/107\n",
            "Epoch 38 --- loss:0.446, Epoch accuracy:83.75%, Validation loss:0.885, Validation accuracy:71.10%\n",
            "Epoch 39: iteration 106/107\n",
            "Epoch 39 --- loss:0.430, Epoch accuracy:84.89%, Validation loss:0.895, Validation accuracy:72.03%\n",
            "Epoch 40: iteration 106/107\n",
            "Epoch 40 --- loss:0.415, Epoch accuracy:85.12%, Validation loss:0.811, Validation accuracy:72.26%\n",
            "Epoch 41: iteration 106/107\n",
            "Epoch 41 --- loss:0.403, Epoch accuracy:86.34%, Validation loss:0.985, Validation accuracy:68.07%\n",
            "Epoch 42: iteration 106/107\n",
            "Epoch 42 --- loss:0.384, Epoch accuracy:86.11%, Validation loss:0.870, Validation accuracy:70.86%\n",
            "Epoch 43: iteration 106/107\n",
            "Epoch 43 --- loss:0.384, Epoch accuracy:86.34%, Validation loss:0.824, Validation accuracy:72.96%\n",
            "Epoch 44: iteration 106/107\n",
            "Epoch 44 --- loss:0.386, Epoch accuracy:86.11%, Validation loss:0.878, Validation accuracy:71.10%\n",
            "Epoch 45: iteration 106/107\n",
            "Epoch 45 --- loss:0.384, Epoch accuracy:86.66%, Validation loss:0.917, Validation accuracy:69.46%\n",
            "Epoch 46: iteration 106/107\n",
            "Epoch 46 --- loss:0.361, Epoch accuracy:86.89%, Validation loss:0.899, Validation accuracy:70.40%\n",
            "Epoch 47: iteration 106/107\n",
            "Epoch 47 --- loss:0.353, Epoch accuracy:87.45%, Validation loss:0.895, Validation accuracy:69.00%\n",
            "Epoch 48: iteration 106/107\n",
            "Epoch 48 --- loss:0.342, Epoch accuracy:88.32%, Validation loss:0.908, Validation accuracy:69.93%\n",
            "Epoch 49: iteration 106/107\n",
            "Epoch 49 --- loss:0.360, Epoch accuracy:87.47%, Validation loss:0.855, Validation accuracy:71.56%\n",
            "Epoch 50: iteration 106/107\n",
            "Epoch 50 --- loss:0.310, Epoch accuracy:89.51%, Validation loss:0.839, Validation accuracy:69.93%\n",
            "Epoch 51: iteration 106/107\n",
            "Epoch 51 --- loss:0.319, Epoch accuracy:88.61%, Validation loss:0.839, Validation accuracy:72.26%\n",
            "Epoch 52: iteration 106/107\n",
            "Epoch 52 --- loss:0.316, Epoch accuracy:88.90%, Validation loss:1.004, Validation accuracy:66.90%\n",
            "Epoch 53: iteration 106/107\n",
            "Epoch 53 --- loss:0.311, Epoch accuracy:89.48%, Validation loss:0.840, Validation accuracy:71.33%\n",
            "Epoch 54: iteration 106/107\n",
            "Epoch 54 --- loss:0.305, Epoch accuracy:89.28%, Validation loss:0.796, Validation accuracy:73.19%\n",
            "Epoch 55: iteration 106/107\n",
            "Epoch 55 --- loss:0.283, Epoch accuracy:90.06%, Validation loss:0.853, Validation accuracy:71.56%\n",
            "Epoch 56: iteration 106/107\n",
            "Epoch 56 --- loss:0.286, Epoch accuracy:90.56%, Validation loss:0.972, Validation accuracy:68.76%\n",
            "Epoch 57: iteration 106/107\n",
            "Epoch 57 --- loss:0.271, Epoch accuracy:90.53%, Validation loss:0.956, Validation accuracy:67.37%\n",
            "Epoch 58: iteration 106/107\n",
            "Epoch 58 --- loss:0.261, Epoch accuracy:90.79%, Validation loss:0.837, Validation accuracy:72.49%\n",
            "Epoch 59: iteration 106/107\n",
            "Epoch 59 --- loss:0.261, Epoch accuracy:90.99%, Validation loss:0.875, Validation accuracy:72.03%\n",
            "Epoch 60: iteration 106/107\n",
            "Epoch 60 --- loss:0.267, Epoch accuracy:90.61%, Validation loss:0.908, Validation accuracy:71.10%\n",
            "Epoch 61: iteration 106/107\n",
            "Epoch 61 --- loss:0.253, Epoch accuracy:91.57%, Validation loss:0.825, Validation accuracy:73.43%\n",
            "Epoch 62: iteration 106/107\n",
            "Epoch 62 --- loss:0.243, Epoch accuracy:92.10%, Validation loss:0.852, Validation accuracy:71.56%\n",
            "Epoch 63: iteration 106/107\n",
            "Epoch 63 --- loss:0.233, Epoch accuracy:92.33%, Validation loss:0.804, Validation accuracy:72.73%\n",
            "Epoch 64: iteration 106/107\n",
            "Epoch 64 --- loss:0.234, Epoch accuracy:91.89%, Validation loss:0.763, Validation accuracy:74.59%\n",
            "Epoch 65: iteration 106/107\n",
            "Epoch 65 --- loss:0.235, Epoch accuracy:91.83%, Validation loss:0.849, Validation accuracy:74.59%\n",
            "Epoch 66: iteration 106/107\n",
            "Epoch 66 --- loss:0.245, Epoch accuracy:91.49%, Validation loss:0.899, Validation accuracy:70.86%\n",
            "Epoch 67: iteration 106/107\n",
            "Epoch 67 --- loss:0.212, Epoch accuracy:93.29%, Validation loss:0.802, Validation accuracy:73.43%\n",
            "Epoch 68: iteration 106/107\n",
            "Epoch 68 --- loss:0.230, Epoch accuracy:92.33%, Validation loss:0.859, Validation accuracy:72.49%\n",
            "Epoch 69: iteration 106/107\n",
            "Epoch 69 --- loss:0.224, Epoch accuracy:92.27%, Validation loss:0.745, Validation accuracy:74.83%\n",
            "Epoch 70: iteration 106/107\n",
            "Epoch 70 --- loss:0.219, Epoch accuracy:92.53%, Validation loss:0.886, Validation accuracy:71.56%\n",
            "Epoch 71: iteration 106/107\n",
            "Epoch 71 --- loss:0.200, Epoch accuracy:93.20%, Validation loss:0.787, Validation accuracy:72.03%\n",
            "Epoch 72: iteration 106/107\n",
            "Epoch 72 --- loss:0.231, Epoch accuracy:92.24%, Validation loss:0.786, Validation accuracy:74.59%\n",
            "Epoch 73: iteration 106/107\n",
            "Epoch 73 --- loss:0.202, Epoch accuracy:93.78%, Validation loss:0.763, Validation accuracy:76.69%\n",
            "Epoch 74: iteration 106/107\n",
            "Epoch 74 --- loss:0.218, Epoch accuracy:92.30%, Validation loss:0.784, Validation accuracy:73.89%\n",
            "Epoch 75: iteration 106/107\n",
            "Epoch 75 --- loss:0.207, Epoch accuracy:93.40%, Validation loss:0.799, Validation accuracy:74.83%\n",
            "Epoch 76: iteration 106/107\n",
            "Epoch 76 --- loss:0.187, Epoch accuracy:93.81%, Validation loss:0.807, Validation accuracy:75.06%\n",
            "Epoch 77: iteration 106/107\n",
            "Epoch 77 --- loss:0.199, Epoch accuracy:93.23%, Validation loss:0.835, Validation accuracy:73.43%\n",
            "Epoch 78: iteration 106/107\n",
            "Epoch 78 --- loss:0.196, Epoch accuracy:93.46%, Validation loss:0.761, Validation accuracy:73.89%\n",
            "Epoch 79: iteration 106/107\n",
            "Epoch 79 --- loss:0.181, Epoch accuracy:93.87%, Validation loss:0.814, Validation accuracy:73.19%\n",
            "Epoch 80: iteration 106/107\n",
            "Epoch 80 --- loss:0.182, Epoch accuracy:94.01%, Validation loss:0.788, Validation accuracy:74.36%\n",
            "Epoch 81: iteration 106/107\n",
            "Epoch 81 --- loss:0.191, Epoch accuracy:93.61%, Validation loss:0.866, Validation accuracy:72.26%\n",
            "Epoch 82: iteration 106/107\n",
            "Epoch 82 --- loss:0.175, Epoch accuracy:93.98%, Validation loss:0.751, Validation accuracy:75.76%\n",
            "Epoch 83: iteration 106/107\n",
            "Epoch 83 --- loss:0.161, Epoch accuracy:94.54%, Validation loss:0.735, Validation accuracy:74.36%\n",
            "Epoch 84: iteration 106/107\n",
            "Epoch 84 --- loss:0.192, Epoch accuracy:93.37%, Validation loss:0.891, Validation accuracy:72.26%\n",
            "Epoch 85: iteration 106/107\n",
            "Epoch 85 --- loss:0.168, Epoch accuracy:94.16%, Validation loss:0.853, Validation accuracy:70.86%\n",
            "Epoch 86: iteration 106/107\n",
            "Epoch 86 --- loss:0.173, Epoch accuracy:94.13%, Validation loss:0.778, Validation accuracy:73.43%\n",
            "Epoch 87: iteration 106/107\n",
            "Epoch 87 --- loss:0.157, Epoch accuracy:95.06%, Validation loss:0.793, Validation accuracy:74.59%\n",
            "Epoch 88: iteration 106/107\n",
            "Epoch 88 --- loss:0.173, Epoch accuracy:94.28%, Validation loss:0.825, Validation accuracy:73.66%\n",
            "Epoch 89: iteration 106/107\n",
            "Epoch 89 --- loss:0.167, Epoch accuracy:94.30%, Validation loss:0.680, Validation accuracy:77.86%\n",
            "Epoch 90: iteration 106/107\n",
            "Epoch 90 --- loss:0.171, Epoch accuracy:94.19%, Validation loss:0.791, Validation accuracy:74.36%\n",
            "Epoch 91: iteration 106/107\n",
            "Epoch 91 --- loss:0.165, Epoch accuracy:94.68%, Validation loss:0.747, Validation accuracy:75.76%\n",
            "Epoch 92: iteration 106/107\n",
            "Epoch 92 --- loss:0.147, Epoch accuracy:95.44%, Validation loss:0.746, Validation accuracy:75.52%\n",
            "Epoch 93: iteration 106/107\n",
            "Epoch 93 --- loss:0.152, Epoch accuracy:95.41%, Validation loss:0.936, Validation accuracy:70.16%\n",
            "Epoch 94: iteration 106/107\n",
            "Epoch 94 --- loss:0.152, Epoch accuracy:95.84%, Validation loss:0.760, Validation accuracy:74.36%\n",
            "Epoch 95: iteration 106/107\n",
            "Epoch 95 --- loss:0.162, Epoch accuracy:94.77%, Validation loss:0.735, Validation accuracy:77.16%\n",
            "Epoch 96: iteration 106/107\n",
            "Epoch 96 --- loss:0.151, Epoch accuracy:95.18%, Validation loss:0.735, Validation accuracy:76.46%\n",
            "Epoch 97: iteration 106/107\n",
            "Epoch 97 --- loss:0.158, Epoch accuracy:95.23%, Validation loss:0.794, Validation accuracy:72.26%\n",
            "Epoch 98: iteration 106/107\n",
            "Epoch 98 --- loss:0.144, Epoch accuracy:95.70%, Validation loss:0.747, Validation accuracy:75.99%\n",
            "Epoch 99: iteration 106/107\n",
            "Epoch 99 --- loss:0.150, Epoch accuracy:94.89%, Validation loss:0.754, Validation accuracy:74.59%\n"
          ]
        }
      ]
    },
    {
      "cell_type": "code",
      "source": [
        "train_losses3 = train_losses\n",
        "valid_losses3  = valid_losses\n",
        "train_acc3 = torch.tensor(train_acc,device='cpu').float()\n",
        "valid_accu3 = torch.tensor(valid_accu,device='cpu').float()\n",
        "\n",
        "#re-instantiate lists\n",
        "train_losses=[]\n",
        "valid_losses = []\n",
        "train_acc = []\n",
        "valid_accu = []"
      ],
      "metadata": {
        "id": "y1yoG8CwtSx_"
      },
      "execution_count": null,
      "outputs": []
    },
    {
      "cell_type": "markdown",
      "source": [
        "###Model 4"
      ],
      "metadata": {
        "id": "iXR35hLmxEyn"
      }
    },
    {
      "cell_type": "code",
      "source": [
        "num_epochs = 100\n",
        "#model = parallel_model(num_emotions=len(emotions_dict)).to(device) \n",
        "\n",
        "train(optimizer, model, num_epochs, X_train, y_train, X_valid, y_valid)"
      ],
      "metadata": {
        "colab": {
          "base_uri": "https://localhost:8080/"
        },
        "id": "1WO8ikFSsBW6",
        "outputId": "3b981dd6-fcc2-4d4b-8ce5-2cfc42bb9ed4"
      },
      "execution_count": null,
      "outputs": [
        {
          "output_type": "stream",
          "name": "stdout",
          "text": [
            "Epoch 0: iteration 106/107\n",
            "Epoch 0 --- loss:3.119, Epoch accuracy:25.14%, Validation loss:2.155, Validation accuracy:27.97%\n",
            "Epoch 1: iteration 106/107\n",
            "Epoch 1 --- loss:1.646, Epoch accuracy:36.56%, Validation loss:1.841, Validation accuracy:29.37%\n",
            "Epoch 2: iteration 106/107\n",
            "Epoch 2 --- loss:1.543, Epoch accuracy:40.66%, Validation loss:1.657, Validation accuracy:44.99%\n",
            "Epoch 3: iteration 106/107\n",
            "Epoch 3 --- loss:1.434, Epoch accuracy:45.68%, Validation loss:1.445, Validation accuracy:46.85%\n",
            "Epoch 4: iteration 106/107\n",
            "Epoch 4 --- loss:1.361, Epoch accuracy:48.88%, Validation loss:1.374, Validation accuracy:49.18%\n",
            "Epoch 5: iteration 106/107\n",
            "Epoch 5 --- loss:1.256, Epoch accuracy:52.14%, Validation loss:1.275, Validation accuracy:57.11%\n",
            "Epoch 6: iteration 106/107\n",
            "Epoch 6 --- loss:1.205, Epoch accuracy:55.07%, Validation loss:1.238, Validation accuracy:55.71%\n",
            "Epoch 7: iteration 106/107\n",
            "Epoch 7 --- loss:1.134, Epoch accuracy:58.27%, Validation loss:1.092, Validation accuracy:60.37%\n",
            "Epoch 8: iteration 106/107\n",
            "Epoch 8 --- loss:1.049, Epoch accuracy:60.68%, Validation loss:1.162, Validation accuracy:58.04%\n",
            "Epoch 9: iteration 106/107\n",
            "Epoch 9 --- loss:0.986, Epoch accuracy:62.74%, Validation loss:1.097, Validation accuracy:59.67%\n",
            "Epoch 10: iteration 106/107\n",
            "Epoch 10 --- loss:0.929, Epoch accuracy:65.10%, Validation loss:1.050, Validation accuracy:62.24%\n",
            "Epoch 11: iteration 106/107\n",
            "Epoch 11 --- loss:0.865, Epoch accuracy:67.34%, Validation loss:1.083, Validation accuracy:61.54%\n",
            "Epoch 12: iteration 106/107\n",
            "Epoch 12 --- loss:0.816, Epoch accuracy:70.65%, Validation loss:0.978, Validation accuracy:64.10%\n",
            "Epoch 13: iteration 106/107\n",
            "Epoch 13 --- loss:0.776, Epoch accuracy:70.97%, Validation loss:0.957, Validation accuracy:64.57%\n",
            "Epoch 14: iteration 106/107\n",
            "Epoch 14 --- loss:0.730, Epoch accuracy:73.38%, Validation loss:1.180, Validation accuracy:59.91%\n",
            "Epoch 15: iteration 106/107\n",
            "Epoch 15 --- loss:0.716, Epoch accuracy:73.67%, Validation loss:0.980, Validation accuracy:66.20%\n",
            "Epoch 16: iteration 106/107\n",
            "Epoch 16 --- loss:0.644, Epoch accuracy:75.50%, Validation loss:0.972, Validation accuracy:62.47%\n",
            "Epoch 17: iteration 106/107\n",
            "Epoch 17 --- loss:0.595, Epoch accuracy:78.49%, Validation loss:1.075, Validation accuracy:66.90%\n",
            "Epoch 18: iteration 106/107\n",
            "Epoch 18 --- loss:0.574, Epoch accuracy:78.29%, Validation loss:1.016, Validation accuracy:65.97%\n",
            "Epoch 19: iteration 106/107\n",
            "Epoch 19 --- loss:0.550, Epoch accuracy:79.51%, Validation loss:1.100, Validation accuracy:64.10%\n",
            "Epoch 20: iteration 106/107\n",
            "Epoch 20 --- loss:0.504, Epoch accuracy:80.91%, Validation loss:1.076, Validation accuracy:62.94%\n",
            "Epoch 21: iteration 106/107\n",
            "Epoch 21 --- loss:0.487, Epoch accuracy:81.40%, Validation loss:1.119, Validation accuracy:66.90%\n",
            "Epoch 22: iteration 106/107\n",
            "Epoch 22 --- loss:0.488, Epoch accuracy:82.13%, Validation loss:1.026, Validation accuracy:63.87%\n",
            "Epoch 23: iteration 106/107\n",
            "Epoch 23 --- loss:0.436, Epoch accuracy:84.16%, Validation loss:1.081, Validation accuracy:64.57%\n",
            "Epoch 24: iteration 106/107\n",
            "Epoch 24 --- loss:0.422, Epoch accuracy:85.09%, Validation loss:1.090, Validation accuracy:63.40%\n",
            "Epoch 25: iteration 106/107\n",
            "Epoch 25 --- loss:0.407, Epoch accuracy:84.80%, Validation loss:1.029, Validation accuracy:66.90%\n",
            "Epoch 26: iteration 106/107\n",
            "Epoch 26 --- loss:0.420, Epoch accuracy:83.96%, Validation loss:1.083, Validation accuracy:67.37%\n",
            "Epoch 27: iteration 106/107\n",
            "Epoch 27 --- loss:0.376, Epoch accuracy:85.67%, Validation loss:1.137, Validation accuracy:62.94%\n",
            "Epoch 28: iteration 106/107\n",
            "Epoch 28 --- loss:0.371, Epoch accuracy:85.82%, Validation loss:1.074, Validation accuracy:69.23%\n",
            "Epoch 29: iteration 106/107\n",
            "Epoch 29 --- loss:0.354, Epoch accuracy:86.72%, Validation loss:1.143, Validation accuracy:63.87%\n",
            "Epoch 30: iteration 106/107\n",
            "Epoch 30 --- loss:0.322, Epoch accuracy:87.50%, Validation loss:1.183, Validation accuracy:66.20%\n",
            "Epoch 31: iteration 106/107\n",
            "Epoch 31 --- loss:0.317, Epoch accuracy:88.14%, Validation loss:1.052, Validation accuracy:66.90%\n",
            "Epoch 32: iteration 106/107\n",
            "Epoch 32 --- loss:0.307, Epoch accuracy:88.72%, Validation loss:0.989, Validation accuracy:70.16%\n",
            "Epoch 33: iteration 106/107\n",
            "Epoch 33 --- loss:0.298, Epoch accuracy:88.58%, Validation loss:1.082, Validation accuracy:68.76%\n",
            "Epoch 34: iteration 106/107\n",
            "Epoch 34 --- loss:0.268, Epoch accuracy:90.85%, Validation loss:1.123, Validation accuracy:66.67%\n",
            "Epoch 35: iteration 106/107\n",
            "Epoch 35 --- loss:0.249, Epoch accuracy:90.96%, Validation loss:1.230, Validation accuracy:67.60%\n",
            "Epoch 36: iteration 106/107\n",
            "Epoch 36 --- loss:0.249, Epoch accuracy:91.40%, Validation loss:1.108, Validation accuracy:66.67%\n",
            "Epoch 37: iteration 106/107\n",
            "Epoch 37 --- loss:0.242, Epoch accuracy:91.17%, Validation loss:1.145, Validation accuracy:65.97%\n",
            "Epoch 38: iteration 106/107\n",
            "Epoch 38 --- loss:0.246, Epoch accuracy:91.05%, Validation loss:1.160, Validation accuracy:69.00%\n",
            "Epoch 39: iteration 106/107\n",
            "Epoch 39 --- loss:0.242, Epoch accuracy:91.40%, Validation loss:1.146, Validation accuracy:68.30%\n",
            "Epoch 40: iteration 106/107\n",
            "Epoch 40 --- loss:0.212, Epoch accuracy:92.30%, Validation loss:1.117, Validation accuracy:69.00%\n",
            "Epoch 41: iteration 106/107\n",
            "Epoch 41 --- loss:0.221, Epoch accuracy:91.72%, Validation loss:1.163, Validation accuracy:67.37%\n",
            "Epoch 42: iteration 106/107\n",
            "Epoch 42 --- loss:0.193, Epoch accuracy:92.94%, Validation loss:1.156, Validation accuracy:69.00%\n",
            "Epoch 43: iteration 106/107\n",
            "Epoch 43 --- loss:0.185, Epoch accuracy:93.35%, Validation loss:1.139, Validation accuracy:68.30%\n",
            "Epoch 44: iteration 106/107\n",
            "Epoch 44 --- loss:0.181, Epoch accuracy:93.11%, Validation loss:1.113, Validation accuracy:69.00%\n",
            "Epoch 45: iteration 106/107\n",
            "Epoch 45 --- loss:0.193, Epoch accuracy:93.14%, Validation loss:1.202, Validation accuracy:64.80%\n",
            "Epoch 46: iteration 106/107\n",
            "Epoch 46 --- loss:0.161, Epoch accuracy:94.16%, Validation loss:1.219, Validation accuracy:68.53%\n",
            "Epoch 47: iteration 106/107\n",
            "Epoch 47 --- loss:0.170, Epoch accuracy:93.66%, Validation loss:1.202, Validation accuracy:68.07%\n",
            "Epoch 48: iteration 106/107\n",
            "Epoch 48 --- loss:0.156, Epoch accuracy:94.71%, Validation loss:1.317, Validation accuracy:65.50%\n",
            "Epoch 49: iteration 106/107\n",
            "Epoch 49 --- loss:0.151, Epoch accuracy:94.39%, Validation loss:1.326, Validation accuracy:66.90%\n",
            "Epoch 50: iteration 106/107\n",
            "Epoch 50 --- loss:0.170, Epoch accuracy:93.64%, Validation loss:1.274, Validation accuracy:65.97%\n",
            "Epoch 51: iteration 106/107\n",
            "Epoch 51 --- loss:0.169, Epoch accuracy:93.35%, Validation loss:1.227, Validation accuracy:66.67%\n",
            "Epoch 52: iteration 106/107\n",
            "Epoch 52 --- loss:0.151, Epoch accuracy:94.48%, Validation loss:1.186, Validation accuracy:66.67%\n",
            "Epoch 53: iteration 106/107\n",
            "Epoch 53 --- loss:0.120, Epoch accuracy:95.67%, Validation loss:1.447, Validation accuracy:63.87%\n",
            "Epoch 54: iteration 106/107\n",
            "Epoch 54 --- loss:0.132, Epoch accuracy:95.15%, Validation loss:1.231, Validation accuracy:68.30%\n",
            "Epoch 55: iteration 106/107\n",
            "Epoch 55 --- loss:0.117, Epoch accuracy:95.90%, Validation loss:1.351, Validation accuracy:66.67%\n",
            "Epoch 56: iteration 106/107\n",
            "Epoch 56 --- loss:0.120, Epoch accuracy:95.79%, Validation loss:1.183, Validation accuracy:68.53%\n",
            "Epoch 57: iteration 106/107\n",
            "Epoch 57 --- loss:0.110, Epoch accuracy:96.40%, Validation loss:1.239, Validation accuracy:65.73%\n",
            "Epoch 58: iteration 106/107\n",
            "Epoch 58 --- loss:0.123, Epoch accuracy:95.32%, Validation loss:1.468, Validation accuracy:67.83%\n",
            "Epoch 59: iteration 106/107\n",
            "Epoch 59 --- loss:0.138, Epoch accuracy:94.71%, Validation loss:1.254, Validation accuracy:68.53%\n",
            "Epoch 60: iteration 106/107\n",
            "Epoch 60 --- loss:0.112, Epoch accuracy:96.11%, Validation loss:1.328, Validation accuracy:65.03%\n",
            "Epoch 61: iteration 106/107\n",
            "Epoch 61 --- loss:0.098, Epoch accuracy:96.72%, Validation loss:1.419, Validation accuracy:65.50%\n",
            "Epoch 62: iteration 106/107\n",
            "Epoch 62 --- loss:0.091, Epoch accuracy:97.04%, Validation loss:1.429, Validation accuracy:66.20%\n",
            "Epoch 63: iteration 106/107\n",
            "Epoch 63 --- loss:0.099, Epoch accuracy:96.13%, Validation loss:1.335, Validation accuracy:67.37%\n",
            "Epoch 64: iteration 106/107\n",
            "Epoch 64 --- loss:0.103, Epoch accuracy:96.34%, Validation loss:1.500, Validation accuracy:68.53%\n",
            "Epoch 65: iteration 106/107\n",
            "Epoch 65 --- loss:0.112, Epoch accuracy:95.73%, Validation loss:1.419, Validation accuracy:66.67%\n",
            "Epoch 66: iteration 106/107\n",
            "Epoch 66 --- loss:0.085, Epoch accuracy:97.04%, Validation loss:1.360, Validation accuracy:68.30%\n",
            "Epoch 67: iteration 106/107\n",
            "Epoch 67 --- loss:0.086, Epoch accuracy:96.72%, Validation loss:1.433, Validation accuracy:68.07%\n",
            "Epoch 68: iteration 106/107\n",
            "Epoch 68 --- loss:0.100, Epoch accuracy:96.22%, Validation loss:1.455, Validation accuracy:65.97%\n",
            "Epoch 69: iteration 106/107\n",
            "Epoch 69 --- loss:0.086, Epoch accuracy:97.01%, Validation loss:1.423, Validation accuracy:64.57%\n",
            "Epoch 70: iteration 106/107\n",
            "Epoch 70 --- loss:0.080, Epoch accuracy:97.15%, Validation loss:1.272, Validation accuracy:65.27%\n",
            "Epoch 71: iteration 106/107\n",
            "Epoch 71 --- loss:0.097, Epoch accuracy:96.40%, Validation loss:1.387, Validation accuracy:66.20%\n",
            "Epoch 72: iteration 106/107\n",
            "Epoch 72 --- loss:0.079, Epoch accuracy:97.38%, Validation loss:1.363, Validation accuracy:69.00%\n",
            "Epoch 73: iteration 106/107\n",
            "Epoch 73 --- loss:0.085, Epoch accuracy:97.04%, Validation loss:1.319, Validation accuracy:68.76%\n",
            "Epoch 74: iteration 106/107\n",
            "Epoch 74 --- loss:0.082, Epoch accuracy:97.04%, Validation loss:1.364, Validation accuracy:66.67%\n",
            "Epoch 75: iteration 106/107\n",
            "Epoch 75 --- loss:0.101, Epoch accuracy:96.54%, Validation loss:1.464, Validation accuracy:65.27%\n",
            "Epoch 76: iteration 106/107\n",
            "Epoch 76 --- loss:0.100, Epoch accuracy:96.16%, Validation loss:1.339, Validation accuracy:67.60%\n",
            "Epoch 77: iteration 106/107\n",
            "Epoch 77 --- loss:0.086, Epoch accuracy:96.92%, Validation loss:1.395, Validation accuracy:67.83%\n",
            "Epoch 78: iteration 106/107\n",
            "Epoch 78 --- loss:0.077, Epoch accuracy:97.56%, Validation loss:1.333, Validation accuracy:66.90%\n",
            "Epoch 79: iteration 106/107\n",
            "Epoch 79 --- loss:0.062, Epoch accuracy:97.82%, Validation loss:1.316, Validation accuracy:65.73%\n",
            "Epoch 80: iteration 106/107\n",
            "Epoch 80 --- loss:0.065, Epoch accuracy:97.91%, Validation loss:1.407, Validation accuracy:67.83%\n",
            "Epoch 81: iteration 106/107\n",
            "Epoch 81 --- loss:0.065, Epoch accuracy:97.68%, Validation loss:1.378, Validation accuracy:67.13%\n",
            "Epoch 82: iteration 106/107\n",
            "Epoch 82 --- loss:0.050, Epoch accuracy:98.37%, Validation loss:1.298, Validation accuracy:69.00%\n",
            "Epoch 83: iteration 106/107\n",
            "Epoch 83 --- loss:0.066, Epoch accuracy:97.65%, Validation loss:1.383, Validation accuracy:68.07%\n",
            "Epoch 84: iteration 106/107\n",
            "Epoch 84 --- loss:0.065, Epoch accuracy:97.82%, Validation loss:1.293, Validation accuracy:68.76%\n",
            "Epoch 85: iteration 106/107\n",
            "Epoch 85 --- loss:0.055, Epoch accuracy:98.40%, Validation loss:1.344, Validation accuracy:68.30%\n",
            "Epoch 86: iteration 106/107\n",
            "Epoch 86 --- loss:0.054, Epoch accuracy:98.14%, Validation loss:1.424, Validation accuracy:67.83%\n",
            "Epoch 87: iteration 106/107\n",
            "Epoch 87 --- loss:0.045, Epoch accuracy:98.69%, Validation loss:1.345, Validation accuracy:68.07%\n",
            "Epoch 88: iteration 106/107\n",
            "Epoch 88 --- loss:0.050, Epoch accuracy:98.17%, Validation loss:1.536, Validation accuracy:66.67%\n",
            "Epoch 89: iteration 106/107\n",
            "Epoch 89 --- loss:0.073, Epoch accuracy:97.30%, Validation loss:1.558, Validation accuracy:64.10%\n",
            "Epoch 90: iteration 106/107\n",
            "Epoch 90 --- loss:0.068, Epoch accuracy:97.73%, Validation loss:1.480, Validation accuracy:66.20%\n",
            "Epoch 91: iteration 106/107\n",
            "Epoch 91 --- loss:0.050, Epoch accuracy:98.34%, Validation loss:1.476, Validation accuracy:64.57%\n",
            "Epoch 92: iteration 106/107\n",
            "Epoch 92 --- loss:0.063, Epoch accuracy:97.94%, Validation loss:1.365, Validation accuracy:68.53%\n",
            "Epoch 93: iteration 106/107\n",
            "Epoch 93 --- loss:0.047, Epoch accuracy:98.55%, Validation loss:1.371, Validation accuracy:68.76%\n",
            "Epoch 94: iteration 106/107\n",
            "Epoch 94 --- loss:0.070, Epoch accuracy:97.59%, Validation loss:1.550, Validation accuracy:67.83%\n",
            "Epoch 95: iteration 106/107\n",
            "Epoch 95 --- loss:0.065, Epoch accuracy:97.68%, Validation loss:1.369, Validation accuracy:68.30%\n",
            "Epoch 96: iteration 106/107\n",
            "Epoch 96 --- loss:0.051, Epoch accuracy:98.34%, Validation loss:1.369, Validation accuracy:69.46%\n",
            "Epoch 97: iteration 106/107\n",
            "Epoch 97 --- loss:0.062, Epoch accuracy:97.70%, Validation loss:1.423, Validation accuracy:67.83%\n",
            "Epoch 98: iteration 106/107\n",
            "Epoch 98 --- loss:0.054, Epoch accuracy:98.26%, Validation loss:1.517, Validation accuracy:66.90%\n",
            "Epoch 99: iteration 106/107\n",
            "Epoch 99 --- loss:0.058, Epoch accuracy:97.99%, Validation loss:1.327, Validation accuracy:68.30%\n"
          ]
        }
      ]
    },
    {
      "cell_type": "code",
      "source": [
        "train_losses4 = train_losses\n",
        "valid_losses4  = valid_losses\n",
        "train_acc4 = torch.tensor(train_acc,device='cpu').float()\n",
        "valid_accu4 = torch.tensor(valid_accu,device='cpu').float()\n",
        "\n",
        "#re-instantiate lists\n",
        "train_losses=[]\n",
        "valid_losses = []\n",
        "train_acc = []\n",
        "valid_accu = []"
      ],
      "metadata": {
        "id": "kg4f0t5DtUp_"
      },
      "execution_count": null,
      "outputs": []
    },
    {
      "cell_type": "markdown",
      "metadata": {
        "id": "cPDpzMtU60D9"
      },
      "source": [
        "# Checking/Comparing the Loss and Accuracy Curve's Behaviour of the models"
      ]
    },
    {
      "cell_type": "markdown",
      "source": [
        "##Model 1 - 1 CNN"
      ],
      "metadata": {
        "id": "Qr22U7Yovk5i"
      }
    },
    {
      "cell_type": "code",
      "execution_count": null,
      "metadata": {
        "colab": {
          "base_uri": "https://localhost:8080/",
          "height": 300
        },
        "id": "m4gI1cj460D9",
        "outputId": "5375cd9c-915a-445a-cfd6-62bd0ba37016"
      },
      "outputs": [
        {
          "output_type": "display_data",
          "data": {
            "text/plain": [
              "<Figure size 432x288 with 1 Axes>"
            ],
            "image/png": "[encoded data removed]"
          },
          "metadata": {
            "needs_background": "light"
          }
        }
      ],
      "source": [
        "plt.title('Loss Curve')\n",
        "plt.ylabel('Loss', fontsize=16)\n",
        "plt.xlabel('Epoch', fontsize=16)\n",
        "plt.plot(train_losses1[:],'b')\n",
        "plt.plot(valid_losses1[:],'r')\n",
        "plt.legend(['Training loss','Validation loss'])\n",
        "plt.show()"
      ]
    },
    {
      "cell_type": "code",
      "source": [
        "plt.title('Accuracy Curve')\n",
        "plt.ylabel('accuracy', fontsize=16)\n",
        "plt.xlabel('Epoch', fontsize=16)\n",
        "plt.plot(train_acc1[:],'b')\n",
        "plt.plot(valid_accu1[:],'r')\n",
        "plt.legend(['Training accuracy','Validation accuracy'])\n",
        "plt.show()"
      ],
      "metadata": {
        "colab": {
          "base_uri": "https://localhost:8080/",
          "height": 300
        },
        "id": "So5XFrJWkqxr",
        "outputId": "cd17e75e-206d-493b-8a18-d6c3f3340f8f"
      },
      "execution_count": null,
      "outputs": [
        {
          "output_type": "display_data",
          "data": {
            "text/plain": [
              "<Figure size 432x288 with 1 Axes>"
            ],
            "image/png": "[encoded data removed]"
          },
          "metadata": {
            "needs_background": "light"
          }
        }
      ]
    },
    {
      "cell_type": "markdown",
      "source": [
        "##Model 2 - 2 CNN's in parallel"
      ],
      "metadata": {
        "id": "iKOmNQyWvopE"
      }
    },
    {
      "cell_type": "code",
      "execution_count": null,
      "metadata": {
        "colab": {
          "base_uri": "https://localhost:8080/",
          "height": 300
        },
        "outputId": "24d3a18f-16f1-4247-ee08-c66d72f0889d",
        "id": "f-JbQElDvims"
      },
      "outputs": [
        {
          "output_type": "display_data",
          "data": {
            "text/plain": [
              "<Figure size 432x288 with 1 Axes>"
            ],
            "image/png": "[encoded data removed]"
          },
          "metadata": {
            "needs_background": "light"
          }
        }
      ],
      "source": [
        "plt.title('Loss Curve')\n",
        "plt.ylabel('Loss', fontsize=16)\n",
        "plt.xlabel('Epoch', fontsize=16)\n",
        "plt.plot(train_losses2[:],'b')\n",
        "plt.plot(valid_losses2[:],'r')\n",
        "plt.legend(['Training loss','Validation loss'])\n",
        "plt.show()"
      ]
    },
    {
      "cell_type": "code",
      "source": [
        "plt.title('Accuracy Curve')\n",
        "plt.ylabel('accuracy', fontsize=16)\n",
        "plt.xlabel('Epoch', fontsize=16)\n",
        "plt.plot(train_acc2[:],'b')\n",
        "plt.plot(valid_accu2[:],'r')\n",
        "plt.legend(['Training accuracy','Validation accuracy'])\n",
        "plt.show()"
      ],
      "metadata": {
        "colab": {
          "base_uri": "https://localhost:8080/",
          "height": 300
        },
        "outputId": "4bb739e2-f816-4f90-ad8a-601365a0b0ee",
        "id": "etwaaLzDvims"
      },
      "execution_count": null,
      "outputs": [
        {
          "output_type": "display_data",
          "data": {
            "text/plain": [
              "<Figure size 432x288 with 1 Axes>"
            ],
            "image/png": "[encoded data removed]"
          },
          "metadata": {
            "needs_background": "light"
          }
        }
      ]
    },
    {
      "cell_type": "markdown",
      "source": [
        "##Model 3 - 4 CNN's in parallel"
      ],
      "metadata": {
        "id": "gMSZFqD4vqAK"
      }
    },
    {
      "cell_type": "code",
      "execution_count": null,
      "metadata": {
        "colab": {
          "base_uri": "https://localhost:8080/",
          "height": 300
        },
        "outputId": "ea053a2d-6d13-492e-b47f-f94453592e9e",
        "id": "R1py7wWawKNp"
      },
      "outputs": [
        {
          "output_type": "display_data",
          "data": {
            "text/plain": [
              "<Figure size 432x288 with 1 Axes>"
            ],
            "image/png": "[encoded data removed]"
          },
          "metadata": {
            "needs_background": "light"
          }
        }
      ],
      "source": [
        "plt.title('Loss Curve')\n",
        "plt.ylabel('Loss', fontsize=16)\n",
        "plt.xlabel('Epoch', fontsize=16)\n",
        "plt.plot(train_losses3[:],'b')\n",
        "plt.plot(valid_losses3[:],'r')\n",
        "plt.legend(['Training loss','Validation loss'])\n",
        "plt.show()"
      ]
    },
    {
      "cell_type": "code",
      "source": [
        "plt.title('Accuracy Curve')\n",
        "plt.ylabel('accuracy', fontsize=16)\n",
        "plt.xlabel('Epoch', fontsize=16)\n",
        "plt.plot(train_acc3[:],'b')\n",
        "plt.plot(valid_accu3[:],'r')\n",
        "plt.legend(['Training accuracy','Validation accuracy'])\n",
        "plt.show()"
      ],
      "metadata": {
        "colab": {
          "base_uri": "https://localhost:8080/",
          "height": 300
        },
        "outputId": "0d0d21ee-00af-4bed-fbae-ef4b7ac1e65e",
        "id": "6494UY8YwKNq"
      },
      "execution_count": null,
      "outputs": [
        {
          "output_type": "display_data",
          "data": {
            "text/plain": [
              "<Figure size 432x288 with 1 Axes>"
            ],
            "image/png": "[encoded data removed]"
          },
          "metadata": {
            "needs_background": "light"
          }
        }
      ]
    },
    {
      "cell_type": "markdown",
      "source": [
        "##Model 4 - 2 CNN's and a transformer-encoder in parallel"
      ],
      "metadata": {
        "id": "gG2tj4McvrSS"
      }
    },
    {
      "cell_type": "code",
      "execution_count": null,
      "metadata": {
        "colab": {
          "base_uri": "https://localhost:8080/",
          "height": 300
        },
        "outputId": "7c6c97ed-e790-4efd-fc52-255b29b0c395",
        "id": "tJQlTs_jwLcD"
      },
      "outputs": [
        {
          "output_type": "display_data",
          "data": {
            "text/plain": [
              "<Figure size 432x288 with 1 Axes>"
            ],
            "image/png": "[encoded data removed]"
          },
          "metadata": {
            "needs_background": "light"
          }
        }
      ],
      "source": [
        "plt.title('Loss Curve')\n",
        "plt.ylabel('Loss', fontsize=16)\n",
        "plt.xlabel('Epoch', fontsize=16)\n",
        "plt.plot(train_losses4[:],'b')\n",
        "plt.plot(valid_losses4[:],'r')\n",
        "plt.legend(['Training loss','Validation loss'])\n",
        "plt.show()"
      ]
    },
    {
      "cell_type": "code",
      "source": [
        "plt.title('Accuracy Curve')\n",
        "plt.ylabel('accuracy', fontsize=16)\n",
        "plt.xlabel('Epoch', fontsize=16)\n",
        "plt.plot(train_acc4[:],'b')\n",
        "plt.plot(valid_accu4[:],'r')\n",
        "plt.legend(['Training accuracy','Validation accuracy'])\n",
        "plt.show()"
      ],
      "metadata": {
        "colab": {
          "base_uri": "https://localhost:8080/",
          "height": 300
        },
        "outputId": "996d28f2-856c-412d-f6c3-43dfe1f7ddb0",
        "id": "jrhfUs6pwLcD"
      },
      "execution_count": null,
      "outputs": [
        {
          "output_type": "display_data",
          "data": {
            "text/plain": [
              "<Figure size 432x288 with 1 Axes>"
            ],
            "image/png": "[encoded data removed]"
          },
          "metadata": {
            "needs_background": "light"
          }
        }
      ]
    },
    {
      "cell_type": "markdown",
      "source": [
        "##Comparison"
      ],
      "metadata": {
        "id": "jjSQE4KmwUzi"
      }
    },
    {
      "cell_type": "code",
      "execution_count": null,
      "metadata": {
        "colab": {
          "base_uri": "https://localhost:8080/",
          "height": 300
        },
        "outputId": "dbdf7876-e6d0-45b0-8b95-9f1a3b97d5ec",
        "id": "woiAv1ejwXE_"
      },
      "outputs": [
        {
          "output_type": "display_data",
          "data": {
            "text/plain": [
              "<Figure size 432x288 with 1 Axes>"
            ],
            "image/png": "[encoded data removed]"
          },
          "metadata": {
            "needs_background": "light"
          }
        }
      ],
      "source": [
        "plt.title('Training Loss Curves')\n",
        "plt.ylabel('Loss', fontsize=16)\n",
        "plt.xlabel('Epoch', fontsize=16)\n",
        "plt.plot(train_losses1[:],'b')\n",
        "plt.plot(train_losses2[:],'r')\n",
        "plt.plot(train_losses3[:],'g')\n",
        "plt.plot(train_losses4[:],'y')\n",
        "plt.legend(['Model 1','Model 2','Model 3','Model 4'])\n",
        "plt.show()"
      ]
    },
    {
      "cell_type": "code",
      "source": [
        "plt.title('Validation Loss Curves')\n",
        "plt.ylabel('Loss', fontsize=16)\n",
        "plt.xlabel('Epoch', fontsize=16)\n",
        "plt.plot(valid_losses1[:],'b')\n",
        "plt.plot(valid_losses2[:],'r')\n",
        "plt.plot(valid_losses3[:],'g')\n",
        "plt.plot(valid_losses4[:],'y')\n",
        "plt.legend(['Model 1','Model 2','Model 3','Model 4'])\n",
        "plt.show()"
      ],
      "metadata": {
        "colab": {
          "base_uri": "https://localhost:8080/",
          "height": 300
        },
        "id": "B7nL0Hf1AoIB",
        "outputId": "c18008dd-ff4b-4f0f-a5a1-93e73275453d"
      },
      "execution_count": null,
      "outputs": [
        {
          "output_type": "display_data",
          "data": {
            "text/plain": [
              "<Figure size 432x288 with 1 Axes>"
            ],
            "image/png": "[encoded data removed]"
          },
          "metadata": {
            "needs_background": "light"
          }
        }
      ]
    },
    {
      "cell_type": "code",
      "source": [
        "plt.title('Training Accuracy Curves')\n",
        "plt.ylabel('Loss', fontsize=16)\n",
        "plt.xlabel('Epoch', fontsize=16)\n",
        "plt.plot(train_acc1[:],'b')\n",
        "plt.plot(train_acc2[:],'r')\n",
        "plt.plot(train_acc3[:],'g')\n",
        "plt.plot(train_acc4[:],'y')\n",
        "plt.legend(['Model 1','Model 2','Model 3','Model 4'])\n",
        "plt.show()"
      ],
      "metadata": {
        "colab": {
          "base_uri": "https://localhost:8080/",
          "height": 300
        },
        "outputId": "6c612488-0de4-48f4-a4de-a35dad300b92",
        "id": "MKhcF3XEwXFA"
      },
      "execution_count": null,
      "outputs": [
        {
          "output_type": "display_data",
          "data": {
            "text/plain": [
              "<Figure size 432x288 with 1 Axes>"
            ],
            "image/png": "[encoded data removed]"
          },
          "metadata": {
            "needs_background": "light"
          }
        }
      ]
    },
    {
      "cell_type": "code",
      "source": [
        "plt.title('Training Accuracy Curves')\n",
        "plt.ylabel('Loss', fontsize=16)\n",
        "plt.xlabel('Epoch', fontsize=16)\n",
        "plt.plot(valid_accu1[:],'b')\n",
        "plt.plot(valid_accu2[:],'r')\n",
        "plt.plot(valid_accu3[:],'g')\n",
        "plt.plot(valid_accu4[:],'y')\n",
        "plt.legend(['Model 1','Model 2','Model 3','Model 4'])\n",
        "plt.show()"
      ],
      "metadata": {
        "colab": {
          "base_uri": "https://localhost:8080/",
          "height": 300
        },
        "id": "8tXYQO13BBrX",
        "outputId": "6516b097-53f8-462e-997f-190e30abf397"
      },
      "execution_count": null,
      "outputs": [
        {
          "output_type": "display_data",
          "data": {
            "text/plain": [
              "<Figure size 432x288 with 1 Axes>"
            ],
            "image/png": "[encoded data removed]"
          },
          "metadata": {
            "needs_background": "light"
          }
        }
      ]
    },
    {
      "cell_type": "markdown",
      "source": [
        "##References\n",
        "https://towardsdatascience.com/speech-emotion-recognition-using-ravdess-audio-dataset-ce19d162690"
      ],
      "metadata": {
        "id": "ocl9EYNmIcHb"
      }
    }
  ],
  "metadata": {
    "accelerator": "GPU",
    "colab": {
      "provenance": []
    },
    "kernelspec": {
      "display_name": "Python 3",
      "name": "python3"
    },
    "language_info": {
      "name": "python"
    },
    "gpuClass": "standard"
  },
  "nbformat": 4,
  "nbformat_minor": 0
}